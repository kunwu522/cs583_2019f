{
 "cells": [
  {
   "cell_type": "markdown",
   "metadata": {},
   "source": [
    "# CS-583 Finial Project -- NFL Big Data Bowl\n",
    "#### Predict how many yards a team will gain on a rushing play in an NFL regular season game.\n",
    "\n",
    "Auther: Kun Wu"
   ]
  },
  {
   "cell_type": "code",
   "execution_count": 3,
   "metadata": {},
   "outputs": [],
   "source": [
    "from kaggle.competitions import nflrush\n",
    "\n",
    "env = nflrush.make_env()"
   ]
  },
  {
   "cell_type": "code",
   "execution_count": 4,
   "metadata": {},
   "outputs": [],
   "source": [
    "import numpy as np\n",
    "import pandas as pd"
   ]
  },
  {
   "cell_type": "code",
   "execution_count": 5,
   "metadata": {},
   "outputs": [
    {
     "data": {
      "text/html": [
       "<div>\n",
       "<style scoped>\n",
       "    .dataframe tbody tr th:only-of-type {\n",
       "        vertical-align: middle;\n",
       "    }\n",
       "\n",
       "    .dataframe tbody tr th {\n",
       "        vertical-align: top;\n",
       "    }\n",
       "\n",
       "    .dataframe thead th {\n",
       "        text-align: right;\n",
       "    }\n",
       "</style>\n",
       "<table border=\"1\" class=\"dataframe\">\n",
       "  <thead>\n",
       "    <tr style=\"text-align: right;\">\n",
       "      <th></th>\n",
       "      <th>GameId</th>\n",
       "      <th>PlayId</th>\n",
       "      <th>Team</th>\n",
       "      <th>X</th>\n",
       "      <th>Y</th>\n",
       "      <th>S</th>\n",
       "      <th>A</th>\n",
       "      <th>Dis</th>\n",
       "      <th>Orientation</th>\n",
       "      <th>Dir</th>\n",
       "      <th>...</th>\n",
       "      <th>Week</th>\n",
       "      <th>Stadium</th>\n",
       "      <th>Location</th>\n",
       "      <th>StadiumType</th>\n",
       "      <th>Turf</th>\n",
       "      <th>GameWeather</th>\n",
       "      <th>Temperature</th>\n",
       "      <th>Humidity</th>\n",
       "      <th>WindSpeed</th>\n",
       "      <th>WindDirection</th>\n",
       "    </tr>\n",
       "  </thead>\n",
       "  <tbody>\n",
       "    <tr>\n",
       "      <th>0</th>\n",
       "      <td>2017090700</td>\n",
       "      <td>20170907000118</td>\n",
       "      <td>away</td>\n",
       "      <td>73.91</td>\n",
       "      <td>34.84</td>\n",
       "      <td>1.69</td>\n",
       "      <td>1.13</td>\n",
       "      <td>0.40</td>\n",
       "      <td>81.99</td>\n",
       "      <td>177.18</td>\n",
       "      <td>...</td>\n",
       "      <td>1</td>\n",
       "      <td>Gillette Stadium</td>\n",
       "      <td>Foxborough, MA</td>\n",
       "      <td>Outdoor</td>\n",
       "      <td>Field Turf</td>\n",
       "      <td>Clear and warm</td>\n",
       "      <td>63.0</td>\n",
       "      <td>77.0</td>\n",
       "      <td>8</td>\n",
       "      <td>SW</td>\n",
       "    </tr>\n",
       "    <tr>\n",
       "      <th>1</th>\n",
       "      <td>2017090700</td>\n",
       "      <td>20170907000118</td>\n",
       "      <td>away</td>\n",
       "      <td>74.67</td>\n",
       "      <td>32.64</td>\n",
       "      <td>0.42</td>\n",
       "      <td>1.35</td>\n",
       "      <td>0.01</td>\n",
       "      <td>27.61</td>\n",
       "      <td>198.70</td>\n",
       "      <td>...</td>\n",
       "      <td>1</td>\n",
       "      <td>Gillette Stadium</td>\n",
       "      <td>Foxborough, MA</td>\n",
       "      <td>Outdoor</td>\n",
       "      <td>Field Turf</td>\n",
       "      <td>Clear and warm</td>\n",
       "      <td>63.0</td>\n",
       "      <td>77.0</td>\n",
       "      <td>8</td>\n",
       "      <td>SW</td>\n",
       "    </tr>\n",
       "    <tr>\n",
       "      <th>2</th>\n",
       "      <td>2017090700</td>\n",
       "      <td>20170907000118</td>\n",
       "      <td>away</td>\n",
       "      <td>74.00</td>\n",
       "      <td>33.20</td>\n",
       "      <td>1.22</td>\n",
       "      <td>0.59</td>\n",
       "      <td>0.31</td>\n",
       "      <td>3.01</td>\n",
       "      <td>202.73</td>\n",
       "      <td>...</td>\n",
       "      <td>1</td>\n",
       "      <td>Gillette Stadium</td>\n",
       "      <td>Foxborough, MA</td>\n",
       "      <td>Outdoor</td>\n",
       "      <td>Field Turf</td>\n",
       "      <td>Clear and warm</td>\n",
       "      <td>63.0</td>\n",
       "      <td>77.0</td>\n",
       "      <td>8</td>\n",
       "      <td>SW</td>\n",
       "    </tr>\n",
       "    <tr>\n",
       "      <th>3</th>\n",
       "      <td>2017090700</td>\n",
       "      <td>20170907000118</td>\n",
       "      <td>away</td>\n",
       "      <td>71.46</td>\n",
       "      <td>27.70</td>\n",
       "      <td>0.42</td>\n",
       "      <td>0.54</td>\n",
       "      <td>0.02</td>\n",
       "      <td>359.77</td>\n",
       "      <td>105.64</td>\n",
       "      <td>...</td>\n",
       "      <td>1</td>\n",
       "      <td>Gillette Stadium</td>\n",
       "      <td>Foxborough, MA</td>\n",
       "      <td>Outdoor</td>\n",
       "      <td>Field Turf</td>\n",
       "      <td>Clear and warm</td>\n",
       "      <td>63.0</td>\n",
       "      <td>77.0</td>\n",
       "      <td>8</td>\n",
       "      <td>SW</td>\n",
       "    </tr>\n",
       "    <tr>\n",
       "      <th>4</th>\n",
       "      <td>2017090700</td>\n",
       "      <td>20170907000118</td>\n",
       "      <td>away</td>\n",
       "      <td>69.32</td>\n",
       "      <td>35.42</td>\n",
       "      <td>1.82</td>\n",
       "      <td>2.43</td>\n",
       "      <td>0.16</td>\n",
       "      <td>12.63</td>\n",
       "      <td>164.31</td>\n",
       "      <td>...</td>\n",
       "      <td>1</td>\n",
       "      <td>Gillette Stadium</td>\n",
       "      <td>Foxborough, MA</td>\n",
       "      <td>Outdoor</td>\n",
       "      <td>Field Turf</td>\n",
       "      <td>Clear and warm</td>\n",
       "      <td>63.0</td>\n",
       "      <td>77.0</td>\n",
       "      <td>8</td>\n",
       "      <td>SW</td>\n",
       "    </tr>\n",
       "  </tbody>\n",
       "</table>\n",
       "<p>5 rows × 49 columns</p>\n",
       "</div>"
      ],
      "text/plain": [
       "       GameId          PlayId  Team      X      Y     S     A   Dis  \\\n",
       "0  2017090700  20170907000118  away  73.91  34.84  1.69  1.13  0.40   \n",
       "1  2017090700  20170907000118  away  74.67  32.64  0.42  1.35  0.01   \n",
       "2  2017090700  20170907000118  away  74.00  33.20  1.22  0.59  0.31   \n",
       "3  2017090700  20170907000118  away  71.46  27.70  0.42  0.54  0.02   \n",
       "4  2017090700  20170907000118  away  69.32  35.42  1.82  2.43  0.16   \n",
       "\n",
       "   Orientation     Dir  ...  Week           Stadium        Location  \\\n",
       "0        81.99  177.18  ...     1  Gillette Stadium  Foxborough, MA   \n",
       "1        27.61  198.70  ...     1  Gillette Stadium  Foxborough, MA   \n",
       "2         3.01  202.73  ...     1  Gillette Stadium  Foxborough, MA   \n",
       "3       359.77  105.64  ...     1  Gillette Stadium  Foxborough, MA   \n",
       "4        12.63  164.31  ...     1  Gillette Stadium  Foxborough, MA   \n",
       "\n",
       "   StadiumType        Turf     GameWeather Temperature Humidity  WindSpeed  \\\n",
       "0      Outdoor  Field Turf  Clear and warm        63.0     77.0          8   \n",
       "1      Outdoor  Field Turf  Clear and warm        63.0     77.0          8   \n",
       "2      Outdoor  Field Turf  Clear and warm        63.0     77.0          8   \n",
       "3      Outdoor  Field Turf  Clear and warm        63.0     77.0          8   \n",
       "4      Outdoor  Field Turf  Clear and warm        63.0     77.0          8   \n",
       "\n",
       "   WindDirection  \n",
       "0             SW  \n",
       "1             SW  \n",
       "2             SW  \n",
       "3             SW  \n",
       "4             SW  \n",
       "\n",
       "[5 rows x 49 columns]"
      ]
     },
     "execution_count": 5,
     "metadata": {},
     "output_type": "execute_result"
    }
   ],
   "source": [
    "train = pd.read_csv('./train.csv', low_memory=False)\n",
    "# train = pd.read_csv('/kaggle/input/nfl-big-data-bowl-2020/train.csv', low_memory=False)\n",
    "train.head()"
   ]
  },
  {
   "cell_type": "markdown",
   "metadata": {},
   "source": [
    "## Preprocess Data"
   ]
  },
  {
   "cell_type": "code",
   "execution_count": 6,
   "metadata": {},
   "outputs": [
    {
     "name": "stdout",
     "output_type": "stream",
     "text": [
      "col: Team, type: object, number of labels: 2\n",
      "col: DisplayName, type: object, number of labels: 2230\n",
      "col: GameClock, type: object, number of labels: 901\n",
      "col: PossessionTeam, type: object, number of labels: 32\n",
      "col: FieldPosition, type: object, number of labels: 33\n",
      "col: OffenseFormation, type: object, number of labels: 9\n",
      "col: OffensePersonnel, type: object, number of labels: 56\n",
      "col: DefensePersonnel, type: object, number of labels: 38\n",
      "col: PlayDirection, type: object, number of labels: 2\n",
      "col: TimeHandoff, type: object, number of labels: 22935\n",
      "col: TimeSnap, type: object, number of labels: 22943\n",
      "col: PlayerHeight, type: object, number of labels: 16\n",
      "col: PlayerBirthDate, type: object, number of labels: 1688\n",
      "col: PlayerCollegeName, type: object, number of labels: 301\n",
      "col: Position, type: object, number of labels: 25\n",
      "col: HomeTeamAbbr, type: object, number of labels: 32\n",
      "col: VisitorTeamAbbr, type: object, number of labels: 32\n",
      "col: Stadium, type: object, number of labels: 55\n",
      "col: Location, type: object, number of labels: 60\n",
      "col: StadiumType, type: object, number of labels: 30\n",
      "col: Turf, type: object, number of labels: 20\n",
      "col: GameWeather, type: object, number of labels: 62\n",
      "col: WindSpeed, type: object, number of labels: 41\n",
      "col: WindDirection, type: object, number of labels: 54\n",
      "\n",
      "Numerical features, ['GameId', 'PlayId', 'X', 'Y', 'S', 'A', 'Dis', 'Orientation', 'Dir', 'NflId', 'JerseyNumber', 'Season', 'YardLine', 'Quarter', 'Down', 'Distance', 'HomeScoreBeforePlay', 'VisitorScoreBeforePlay', 'NflIdRusher', 'DefendersInTheBox', 'Yards', 'PlayerWeight', 'Week', 'Temperature', 'Humidity']\n"
     ]
    }
   ],
   "source": [
    "number_features = []\n",
    "for col in train.columns:\n",
    "    if train[col].dtype == 'object':\n",
    "        print(f'col: {col}, type: {train[col].dtype}, number of labels: {len(train[col].unique())}')\n",
    "    else:\n",
    "        number_features.append(col)\n",
    "\n",
    "print()\n",
    "print(f'Numerical features, {number_features}')"
   ]
  },
  {
   "cell_type": "markdown",
   "metadata": {},
   "source": [
    "### Feature Engineering"
   ]
  },
  {
   "cell_type": "markdown",
   "metadata": {},
   "source": [
    "#### Some categorical features can be directly labeled."
   ]
  },
  {
   "cell_type": "code",
   "execution_count": 7,
   "metadata": {},
   "outputs": [],
   "source": [
    "''' Convert categorical feature to label\n",
    "'''\n",
    "def categorical_to_label(df, col):\n",
    "    labels = df[col].unique().tolist()\n",
    "    df[col] = df[col].apply(lambda x: labels.index(x))"
   ]
  },
  {
   "cell_type": "markdown",
   "metadata": {},
   "source": [
    "From wikipedia, there are 19 formations of offsense. Since I really don't know what features related to offsense formations. So I just labelize this features. But I will create the list of offsense formations.  \n",
    "https://en.wikipedia.org/wiki/List_of_formations_in_American_football#Goal_line_formation"
   ]
  },
  {
   "cell_type": "code",
   "execution_count": 8,
   "metadata": {},
   "outputs": [],
   "source": [
    "''' The offense formations\n",
    "'''\n",
    "offense_formation = [\n",
    "    't_form', 'i_form', 'singleback', 'proset', 'singlewing', 'wildcat', \n",
    "    'doublewing', 'shortpunt_form', 'shotgun', 'pistol', 'swinginggate', 'v_form', \n",
    "    'wishbone', 'flebone', 'wingt', 'empty', 'jumbo', 'victory', 'tackle_spread'\n",
    "]\n",
    "def clean_offense_formation(offense_form):\n",
    "    if pd.isna(offense_form):\n",
    "        return -1\n",
    "    \n",
    "    offense_form = offense_form.strip().lower()\n",
    "    offense_form = offense_form.replace('single_set_back', 'singleback')\n",
    "    offense_form = offense_form.replace('ace', 'singleback')\n",
    "    offense_form = offense_form.replace('singlesetback', 'singleback')\n",
    "    \n",
    "    return offense_formation.index(offense_form)"
   ]
  },
  {
   "cell_type": "markdown",
   "metadata": {},
   "source": [
    "### There are a lot of noise in the feature 'StadiumType'"
   ]
  },
  {
   "cell_type": "code",
   "execution_count": 9,
   "metadata": {},
   "outputs": [
    {
     "data": {
      "text/plain": [
       "array(['Outdoor', 'Outdoors', 'Indoors', 'Retractable Roof', 'Indoor',\n",
       "       'Retr. Roof-Closed', 'Open', nan, 'Indoor, Open Roof',\n",
       "       'Retr. Roof - Closed', 'Outddors', 'Dome', 'Domed, closed',\n",
       "       'Indoor, Roof Closed', 'Retr. Roof Closed',\n",
       "       'Outdoor Retr Roof-Open', 'Closed Dome', 'Oudoor', 'Ourdoor',\n",
       "       'Dome, closed', 'Retr. Roof-Open', 'Heinz Field', 'Outdor',\n",
       "       'Retr. Roof - Open', 'Domed, Open', 'Domed, open', 'Cloudy',\n",
       "       'Bowl', 'Outside', 'Domed'], dtype=object)"
      ]
     },
     "execution_count": 9,
     "metadata": {},
     "output_type": "execute_result"
    }
   ],
   "source": [
    "train['StadiumType'].unique()"
   ]
  },
  {
   "cell_type": "code",
   "execution_count": 10,
   "metadata": {},
   "outputs": [],
   "source": [
    "# clean stadium type\n",
    "import re\n",
    "from string import punctuation\n",
    "\n",
    "def transfor_stadium_type(stadimu_type):\n",
    "    if pd.isna(stadimu_type) \\\n",
    "        or stadimu_type == 'Retractable Roof' \\\n",
    "        or stadimu_type == 'Dome' \\\n",
    "        or stadimu_type == 'Bowl' \\\n",
    "        or stadimu_type == 'Domed':\n",
    "        return 0\n",
    "    \n",
    "    stadimu_type = stadimu_type.lower().strip()\n",
    "    stadimu_type = ''.join([c for c in stadimu_type if c not in punctuation])\n",
    "    stadimu_type = re.sub(r'\\s+', ' ', stadimu_type)\n",
    "    stadimu_type = stadimu_type.replace('oudoor', 'outdoor')\n",
    "    stadimu_type = stadimu_type.replace('ourdoor', 'outdoor')\n",
    "    stadimu_type = stadimu_type.replace('heinz field', 'outdoor') # According the wikipedia, Heinz Field is a outdoor stadimu\n",
    "    stadimu_type = stadimu_type.replace('cloudy', 'outdoor')\n",
    "    stadimu_type = stadimu_type.replace('domed', 'outdoor')\n",
    "    if 'out' in stadimu_type or 'open' in stadimu_type:\n",
    "        return 1\n",
    "    else:\n",
    "        return 2"
   ]
  },
  {
   "cell_type": "markdown",
   "metadata": {},
   "source": [
    "### Turf"
   ]
  },
  {
   "cell_type": "code",
   "execution_count": 11,
   "metadata": {},
   "outputs": [],
   "source": [
    "#from https://www.kaggle.com/c/nfl-big-data-bowl-2020/discussion/112681#latest-649087\n",
    "\n",
    "def clean_turf(df):\n",
    "    Turf = {'Field Turf':'Artificial', 'A-Turf Titan':'Artificial', 'Grass':'Natural', 'UBU Sports Speed S5-M':'Artificial', \n",
    "            'Artificial':'Artificial', 'DD GrassMaster':'Artificial', 'Natural Grass':'Natural', \n",
    "            'UBU Speed Series-S5-M':'Artificial', 'FieldTurf':'Artificial', 'FieldTurf 360':'Artificial', 'Natural grass':'Natural', 'grass':'Natural', \n",
    "            'Natural':'Natural', 'Artifical':'Artificial', 'FieldTurf360':'Artificial', 'Naturall Grass':'Natural', 'Field turf':'Artificial', \n",
    "            'SISGrass':'Artificial', 'Twenty-Four/Seven Turf':'Artificial', 'natural grass':'Natural'} \n",
    "\n",
    "    df['Turf'] = df['Turf'].map(Turf)\n",
    "    df['Turf'] = df['Turf'] == 'Natural'\n",
    "    return df"
   ]
  },
  {
   "cell_type": "markdown",
   "metadata": {},
   "source": [
    "### Date/Time features"
   ]
  },
  {
   "cell_type": "markdown",
   "metadata": {},
   "source": [
    "#### GameClock"
   ]
  },
  {
   "cell_type": "code",
   "execution_count": 12,
   "metadata": {},
   "outputs": [],
   "source": [
    "def game_clock_to_senconds(string):\n",
    "    string = string.strip().split(':') # min:sec\n",
    "    return int(string[0]) * 60 + int(string[1])"
   ]
  },
  {
   "cell_type": "markdown",
   "metadata": {},
   "source": [
    "#### The duration from snap to handoff"
   ]
  },
  {
   "cell_type": "code",
   "execution_count": 13,
   "metadata": {},
   "outputs": [],
   "source": [
    "import datetime\n",
    "\n",
    "def duration_snap_to_handoff(row):\n",
    "    handoff = datetime.datetime.strptime(row['TimeHandoff'], '%Y-%m-%dT%H:%M:%S.%fZ')\n",
    "    snap = datetime.datetime.strptime(row['TimeSnap'], '%Y-%m-%dT%H:%M:%S.%fZ')\n",
    "    return (handoff - snap).total_seconds()"
   ]
  },
  {
   "cell_type": "markdown",
   "metadata": {},
   "source": [
    "#### Calculate the age by birthday"
   ]
  },
  {
   "cell_type": "code",
   "execution_count": 14,
   "metadata": {},
   "outputs": [],
   "source": [
    "# Birthday convert to palyer's age\n",
    "seconds_in_year = 60 * 60 * 24 * 365\n",
    "def age_birthday_handoff(row):\n",
    "    handoff = datetime.datetime.strptime(row['TimeHandoff'], '%Y-%m-%dT%H:%M:%S.%fZ')\n",
    "    birthday = datetime.datetime.strptime(row['PlayerBirthDate'], '%m/%d/%Y')\n",
    "    return (handoff - birthday).total_seconds() / seconds_in_year"
   ]
  },
  {
   "cell_type": "markdown",
   "metadata": {},
   "source": [
    "#### The height of players need to be clean"
   ]
  },
  {
   "cell_type": "code",
   "execution_count": 15,
   "metadata": {},
   "outputs": [],
   "source": [
    "def height_to_inches(string):\n",
    "    string = string.strip().split('-')\n",
    "    return int(string[0]) * 12 + int(string[1])"
   ]
  },
  {
   "cell_type": "markdown",
   "metadata": {},
   "source": [
    "#### Nosie in the feature 'PossessionTeam', 'HomeTeamAbbr', and 'VisiorTeamAbbr'\n",
    "\n",
    "From https://www.kaggle.com/bgmello/neural-networks-feature-engineering-for-the-win"
   ]
  },
  {
   "cell_type": "code",
   "execution_count": 16,
   "metadata": {},
   "outputs": [],
   "source": [
    "# Fix PossessionTeam, FieldPosition, and HomeTeamAbbr/VisitorTeamAbbr\n",
    "def clean_team_related_features(df):\n",
    "    map_abbr = {'ARI': 'ARZ', 'BAL': 'BLT', 'CLE': 'CLV', 'HOU': 'HST'}\n",
    "    for abb in train['PossessionTeam'].unique():\n",
    "        map_abbr[abb] = abb\n",
    "\n",
    "    df['PossessionTeam'] = df['PossessionTeam'].map(map_abbr)\n",
    "    df['HomeTeamAbbr'] = df['HomeTeamAbbr'].map(map_abbr)\n",
    "    df['VisitorTeamAbbr'] = df['VisitorTeamAbbr'].map(map_abbr)\n",
    "    \n",
    "    df['PossessionTeam'] = df.apply(lambda row: 0 if row['PossessionTeam'] == row['HomeTeamAbbr'] else 1, axis=1)\n",
    "    df['FieldPosition'] = df.apply(lambda row: 0 if row['FieldPosition'] == row['HomeTeamAbbr'] else 1, axis=1)\n",
    "    return df"
   ]
  },
  {
   "cell_type": "markdown",
   "metadata": {},
   "source": [
    "### Preprocess weather features (GameWeather and WindSpeed)"
   ]
  },
  {
   "cell_type": "code",
   "execution_count": 17,
   "metadata": {},
   "outputs": [
    {
     "data": {
      "text/plain": [
       "array(['Clear and warm', 'Sun & clouds', 'Sunny', 'Controlled Climate',\n",
       "       'Mostly Sunny', 'Clear', nan, 'Indoor', 'Mostly Cloudy',\n",
       "       'Mostly Coudy', 'Partly sunny', 'Partly Cloudy', 'Cloudy',\n",
       "       'Sunny, highs to upper 80s', 'Indoors', 'Light Rain', 'Showers',\n",
       "       'Partly cloudy', 'Partly Sunny', '30% Chance of Rain',\n",
       "       'Cloudy with periods of rain, thunder possible. Winds shifting to WNW, 10-20 mph.',\n",
       "       'Rain', 'Cloudy, fog started developing in 2nd quarter', 'Coudy',\n",
       "       'Rain likely, temps in low 40s.', 'Cold', 'N/A (Indoors)',\n",
       "       'Clear skies', 'cloudy', 'Fair', 'Mostly cloudy',\n",
       "       'Cloudy, chance of rain', 'Heavy lake effect snow', 'Party Cloudy',\n",
       "       'Cloudy, light snow accumulating 1-3\"', 'Cloudy and cold', 'Snow',\n",
       "       'Hazy', 'Scattered Showers', 'Cloudy and Cool', 'N/A Indoor',\n",
       "       'Rain Chance 40%', 'Clear and sunny', 'Mostly sunny',\n",
       "       'Sunny and warm', 'Partly clear', 'Cloudy, 50% change of rain',\n",
       "       'Clear and Sunny', 'Sunny, Windy', 'Clear and Cool',\n",
       "       'Sunny and clear', 'Mostly Sunny Skies', 'Partly Clouidy',\n",
       "       'Clear Skies', 'Sunny Skies', 'Overcast',\n",
       "       'T: 51; H: 55; W: NW 10 mph', 'Cloudy, Rain', 'Rain shower',\n",
       "       'Clear and cold', 'Rainy', 'Sunny and cold'], dtype=object)"
      ]
     },
     "execution_count": 17,
     "metadata": {},
     "output_type": "execute_result"
    }
   ],
   "source": [
    "train['GameWeather'].unique()"
   ]
  },
  {
   "cell_type": "code",
   "execution_count": 18,
   "metadata": {},
   "outputs": [
    {
     "data": {
      "text/plain": [
       "array(['8', '6', '10', '9', '11', nan, '7', '5', '2', '12', '1', '3', '4',\n",
       "       '13', '0', 'SSW', '14', '15', '17', '18', '16', '11-17', '23',\n",
       "       '14-23', '13 MPH', '24', '12-22', '4 MPh', '15 gusts up to 25',\n",
       "       '10MPH', '10mph', '22', 'E', '7 MPH', 'Calm', '6 mph', '19', 'SE',\n",
       "       '20', '10-20', '12mph'], dtype=object)"
      ]
     },
     "execution_count": 18,
     "metadata": {},
     "output_type": "execute_result"
    }
   ],
   "source": [
    "train['WindSpeed'].unique()"
   ]
  },
  {
   "cell_type": "code",
   "execution_count": 19,
   "metadata": {},
   "outputs": [],
   "source": [
    "## from https://www.kaggle.com/bgmello/neural-networks-feature-engineering-for-the-win\n",
    "def map_weather(txt):\n",
    "    ans = 1\n",
    "    if pd.isna(txt):\n",
    "        return 0\n",
    "    if 'partly' in txt:\n",
    "        ans*=0.5\n",
    "    if 'climate controlled' in txt or 'indoor' in txt:\n",
    "        return ans*3\n",
    "    if 'sunny' in txt or 'sun' in txt:\n",
    "        return ans*2\n",
    "    if 'clear' in txt:\n",
    "        return ans\n",
    "    if 'cloudy' in txt:\n",
    "        return -ans\n",
    "    if 'rain' in txt or 'rainy' in txt:\n",
    "        return -2*ans\n",
    "    if 'snow' in txt:\n",
    "        return -3*ans\n",
    "    return 0"
   ]
  },
  {
   "cell_type": "code",
   "execution_count": 20,
   "metadata": {},
   "outputs": [],
   "source": [
    "def clean_weather(df):\n",
    "    df['GameWeather'] = df['GameWeather'].str.lower()\n",
    "    df['GameWeather'] = df['GameWeather'].apply(lambda x: 'indoor' if not pd.isna(x) and 'indoor' in x else x)\n",
    "    df['GameWeather'] = df['GameWeather'].apply(lambda x: x.replace('coudy', 'cloudy').replace('clouidy', 'cloudy').replace('party', 'partly') if not pd.isna(x) else x)\n",
    "    df['GameWeather'] = df['GameWeather'].apply(lambda x: x.replace('clear and sunny', 'sunny and clear') if not pd.isna(x) else x)\n",
    "    df['GameWeather'] = df['GameWeather'].apply(lambda x: x.replace('skies', '').replace(\"mostly\", \"\").strip() if not pd.isna(x) else x)\n",
    "    df['GameWeather'] = df['GameWeather'].apply(map_weather)\n",
    "    return df"
   ]
  },
  {
   "cell_type": "code",
   "execution_count": 21,
   "metadata": {},
   "outputs": [],
   "source": [
    "# clean wind speed\n",
    "def clean_wind_speed(wind_speed):\n",
    "    if pd.isna(wind_speed):\n",
    "        return -1\n",
    "    \n",
    "    numbers = re.findall(r'[0-9]+', wind_speed) ## match all numbers in the str\n",
    "    if len(numbers) == 1:\n",
    "        wind_speed = int(numbers[0])\n",
    "    elif len(numbers) == 2:\n",
    "        wind_speed = int((int(numbers[0]) + int(numbers[1])) / 2) # average of 2 wind speed\n",
    "    else:\n",
    "        wind_speed = -1\n",
    "    return wind_speed"
   ]
  },
  {
   "cell_type": "code",
   "execution_count": 22,
   "metadata": {},
   "outputs": [],
   "source": [
    "# from https://www.kaggle.com/bgmello/neural-networks-feature-engineering-for-the-win\n",
    "def clean_wind_direction(txt):\n",
    "    if pd.isna(txt):\n",
    "        return np.nan\n",
    "    txt = txt.lower()\n",
    "    txt = ''.join([c for c in txt if c not in punctuation])\n",
    "    txt = txt.replace('from', '')\n",
    "    txt = txt.replace(' ', '')\n",
    "    txt = txt.replace('north', 'n')\n",
    "    txt = txt.replace('south', 's')\n",
    "    txt = txt.replace('west', 'w')\n",
    "    txt = txt.replace('east', 'e')\n",
    "    return txt\n",
    "\n",
    "def transform_wind_direction(txt):\n",
    "    if pd.isna(txt):\n",
    "        return np.nan\n",
    "    \n",
    "    if txt=='n':\n",
    "        return 0\n",
    "    if txt=='nne' or txt=='nen':\n",
    "        return 1/8\n",
    "    if txt=='ne':\n",
    "        return 2/8\n",
    "    if txt=='ene' or txt=='nee':\n",
    "        return 3/8\n",
    "    if txt=='e':\n",
    "        return 4/8\n",
    "    if txt=='ese' or txt=='see':\n",
    "        return 5/8\n",
    "    if txt=='se':\n",
    "        return 6/8\n",
    "    if txt=='ses' or txt=='sse':\n",
    "        return 7/8\n",
    "    if txt=='s':\n",
    "        return 8/8\n",
    "    if txt=='ssw' or txt=='sws':\n",
    "        return 9/8\n",
    "    if txt=='sw':\n",
    "        return 10/8\n",
    "    if txt=='sww' or txt=='wsw':\n",
    "        return 11/8\n",
    "    if txt=='w':\n",
    "        return 12/8\n",
    "    if txt=='wnw' or txt=='nww':\n",
    "        return 13/8\n",
    "    if txt=='nw':\n",
    "        return 14/8\n",
    "    if txt=='nwn' or txt=='nnw':\n",
    "        return 15/8\n",
    "    return np.nan"
   ]
  },
  {
   "cell_type": "markdown",
   "metadata": {},
   "source": [
    "#### Coordinate"
   ]
  },
  {
   "cell_type": "code",
   "execution_count": 23,
   "metadata": {},
   "outputs": [],
   "source": [
    "#from https://www.kaggle.com/scirpus/hybrid-gp-and-nn\n",
    "def new_orientation(angle, play_direction):\n",
    "    if play_direction == 0:\n",
    "        new_angle = 360.0 - angle\n",
    "        if new_angle == 360.0:\n",
    "            new_angle = 0.0\n",
    "        return new_angle\n",
    "    else:\n",
    "        return angle"
   ]
  },
  {
   "cell_type": "markdown",
   "metadata": {},
   "source": [
    "#### Location\n",
    "May have some impace"
   ]
  },
  {
   "cell_type": "code",
   "execution_count": 24,
   "metadata": {},
   "outputs": [
    {
     "data": {
      "text/plain": [
       "array(['Foxborough, MA', 'Orchard Park NY', 'Chicago. IL',\n",
       "       'Cincinnati, Ohio', 'Cleveland, Ohio', 'Detroit, MI',\n",
       "       'Houston, Texas', 'Nashville, TN', 'Landover, MD',\n",
       "       'Los Angeles, Calif.', 'Green Bay, WI', 'Santa Clara, CA',\n",
       "       'Arlington, Texas', 'Minneapolis, MN', 'Denver, CO',\n",
       "       'Baltimore, Md.', 'Charlotte, North Carolina',\n",
       "       'Indianapolis, Ind.', 'Jacksonville, FL', 'Kansas City, MO',\n",
       "       'New Orleans, LA', 'Pittsburgh', 'Tampa, FL', 'Carson, CA',\n",
       "       'Oakland, CA', 'Seattle, WA', 'Atlanta, GA', 'East Rutherford, NJ',\n",
       "       'London, England', 'Chicago, IL', 'Detroit', 'Philadelphia, Pa.',\n",
       "       'Glendale, AZ', 'Cleveland, OH', 'Foxborough, Ma',\n",
       "       'E. Rutherford, NJ', 'Miami Gardens, Fla.', 'Houston, TX',\n",
       "       'London', 'New Orleans, La.', 'Mexico City', 'Baltimore, Maryland',\n",
       "       'Arlington, TX', 'Jacksonville, Fl', 'Jacksonville, Florida',\n",
       "       'Pittsburgh, PA', 'Charlotte, NC', 'Cleveland,Ohio',\n",
       "       'East Rutherford, N.J.', 'Philadelphia, PA', 'Seattle',\n",
       "       'Cleveland Ohio', 'Miami Gardens, FLA', 'Orchard Park, NY',\n",
       "       'Cleveland', 'Cincinnati, OH', 'Kansas City,  MO',\n",
       "       'Jacksonville Florida', 'Los Angeles, CA', 'New Orleans'],\n",
       "      dtype=object)"
      ]
     },
     "execution_count": 24,
     "metadata": {},
     "output_type": "execute_result"
    }
   ],
   "source": [
    "train['Location'].unique()"
   ]
  },
  {
   "cell_type": "code",
   "execution_count": 25,
   "metadata": {},
   "outputs": [],
   "source": [
    "def clean_location(location):\n",
    "    location = location.lower().strip()\n",
    "    location = location.replace('calif.', 'ca')\n",
    "    location = location.replace('north carolina', 'nc')\n",
    "    location = 'cleveland, oh' if 'cleveland' in location else location\n",
    "    location = 'baltimore, md' if 'baltimore' in location else location\n",
    "    location = 'east rutherford, nj' if 'rutherford' in location else location\n",
    "    location = 'pittsburgh, pa' if 'pittsburgh' in location else location\n",
    "    location = 'philadelphia, pa' if 'philadelphia' in location else location\n",
    "    location = 'houston, tx' if 'houston' in location else location\n",
    "    location = 'detroit, mi' if 'detroit' in location else location\n",
    "    location = 'miami, fl' if 'miami' in location else location\n",
    "    location = 'jacksonville, fl' if 'jacksonville' in location else location\n",
    "    location = 'new orleans, la' if 'orleans' in location else location\n",
    "    location = 'seattle, wa' if 'seattle' in location else location\n",
    "    location = 'chicago, il' if 'chicago' in location else location\n",
    "    location = 'kansas city, mo' if 'kansas city' in location else location\n",
    "    location = 'london, england' if 'london' in location else location\n",
    "    return location"
   ]
  },
  {
   "cell_type": "markdown",
   "metadata": {},
   "source": [
    "#### Aggregate All the function above to generate final clean dataset"
   ]
  },
  {
   "cell_type": "code",
   "execution_count": 26,
   "metadata": {},
   "outputs": [],
   "source": [
    "def feature_engineering(df):\n",
    "    categorical_to_label(df, 'PlayDirection') # Either left or right\n",
    "    categorical_to_label(df, 'Position') # There are 25 position in the football game\n",
    "    \n",
    "    df['OffenseFormation'] = df['OffenseFormation'].apply(clean_offense_formation)\n",
    "    \n",
    "    # Don't familiar with offense and defense personel, just labelized them.\n",
    "    categorical_to_label(df, 'OffensePersonnel')\n",
    "    categorical_to_label(df, 'DefensePersonnel')\n",
    "    \n",
    "    # StadiumType\n",
    "    df['StadiumType'] = df['StadiumType'].apply(transfor_stadium_type)\n",
    "    \n",
    "    # Turf\n",
    "    df = clean_turf(df)\n",
    "    \n",
    "    # Date/Time\n",
    "    df['GameClock'] = df['GameClock'].apply(game_clock_to_senconds)\n",
    "    df['Duration'] = df.apply(lambda row: duration_snap_to_handoff(row), axis=1)\n",
    "    df['PlayerAge'] = df.apply(lambda row: age_birthday_handoff(row), axis=1)\n",
    "    \n",
    "    # Players\n",
    "    df['PlayerHeight'] = df['PlayerHeight'].apply(height_to_inches)\n",
    "    \n",
    "    # Home team or Away team\n",
    "    df['Team'] = df['Team'].apply(lambda x: 0 if x == 'home' else 1)\n",
    "    \n",
    "    # PossessionTeam, HomeTeamAbbr, and VisitorTeamAbbr\n",
    "    df = clean_team_related_features(df)\n",
    "    \n",
    "    # weather\n",
    "    df = clean_weather(df)\n",
    "    df['WindSpeed'] = df['WindSpeed'].apply(clean_wind_speed)\n",
    "    df['WindDirection'] = df['WindDirection'].apply(clean_wind_direction)\n",
    "    df['WindDirection'] = df['WindDirection'].apply(transform_wind_direction)\n",
    "    \n",
    "    # coordinate\n",
    "    df['X'] = df.apply(lambda row: row['X'] if row['PlayDirection'] == 1 else 120-row['X'], axis=1)\n",
    "    df['Orientation'] = df.apply(lambda row: new_orientation(row['Orientation'], row['PlayDirection']), axis=1)\n",
    "    df['Dir'] = df.apply(lambda row: new_orientation(row['Dir'], row['PlayDirection']), axis=1)\n",
    "    \n",
    "    # Who is the rusher?\n",
    "    df['IsRusher'] = df['NflId'] == df['NflIdRusher']\n",
    "    \n",
    "    # Location\n",
    "    df['Location'] = df['Location'].apply(lambda x: clean_location(x))\n",
    "    categorical_to_label(df, 'Location')\n",
    "    \n",
    "    # Sort\n",
    "    df = df.sort_values(by=['PlayId', 'Team'])\n",
    "    \n",
    "    return df"
   ]
  },
  {
   "cell_type": "markdown",
   "metadata": {},
   "source": [
    "#### Generate dataset\n",
    "Pick up the features that I believe will affect the result\n",
    "\n",
    "There are two type features of one play, sequence features and objective feature"
   ]
  },
  {
   "cell_type": "code",
   "execution_count": 27,
   "metadata": {},
   "outputs": [],
   "source": [
    "from sklearn.preprocessing import StandardScaler\n",
    "\n",
    "sequence_feature_columns = [\n",
    "    'X', 'Y', 'S', 'A', 'Dis', 'Orientation', 'Dir', 'Down', 'Distance', 'FieldPosition',\n",
    "    'HomeScoreBeforePlay', 'VisitorScoreBeforePlay', 'OffenseFormation', 'OffensePersonnel',\n",
    "    'DefendersInTheBox', 'DefensePersonnel', 'PlayDirection', 'Duration', 'PlayerAge', 'PlayerHeight', \n",
    "    'PlayerWeight', 'Position', 'IsRusher'\n",
    "]\n",
    "\n",
    "objective_feature_columns = [\n",
    "    'Team', 'Week', 'StadiumType', 'Turf', 'GameWeather', 'Temperature', 'Humidity', 'Location',\n",
    "    'WindSpeed', 'WindDirection'\n",
    "]        \n",
    "\n",
    "def generate_dataset(df):\n",
    "    df.fillna(-999, inplace=True)\n",
    "\n",
    "    sequence_features = np.array(df[sequence_feature_columns]).reshape(-1, len(sequence_feature_columns)*22)\n",
    "\n",
    "    obj_features = np.zeros(shape=(sequence_features.shape[0], len(objective_feature_columns)))\n",
    "    for i, col in enumerate(objective_feature_columns):\n",
    "        obj_features[:, i] = df[col][::22]\n",
    "\n",
    "    x = np.concatenate([sequence_features, obj_features], axis=1)\n",
    "    y = np.zeros(shape=(x.shape[0], 199))\n",
    "    if 'Yards' in df:\n",
    "        for i, yard in enumerate(df['Yards'][::22]):\n",
    "            y[i, yard+99:] = np.ones(shape=(1, 100-yard))\n",
    "\n",
    "    scaler = StandardScaler()\n",
    "    return scaler.fit_transform(x), y"
   ]
  },
  {
   "cell_type": "markdown",
   "metadata": {},
   "source": [
    "## Model"
   ]
  },
  {
   "cell_type": "markdown",
   "metadata": {},
   "source": [
    "### Loss function"
   ]
  },
  {
   "cell_type": "code",
   "execution_count": 28,
   "metadata": {},
   "outputs": [
    {
     "name": "stderr",
     "output_type": "stream",
     "text": [
      "Using TensorFlow backend.\n"
     ]
    }
   ],
   "source": [
    "# Loss function\n",
    "# from https://www.kaggle.com/davidcairuz/nfl-neural-network-w-softmax\n",
    "import keras.backend as K\n",
    "\n",
    "def crps(y_true, y_pred):\n",
    "    return K.mean(K.square(y_true - K.cumsum(y_pred, axis=1)), axis=1)"
   ]
  },
  {
   "cell_type": "markdown",
   "metadata": {},
   "source": [
    "### Three layers Neural Network"
   ]
  },
  {
   "cell_type": "code",
   "execution_count": 29,
   "metadata": {
    "scrolled": true
   },
   "outputs": [
    {
     "name": "stdout",
     "output_type": "stream",
     "text": [
      "Model: \"model_1\"\n",
      "_________________________________________________________________\n",
      "Layer (type)                 Output Shape              Param #   \n",
      "=================================================================\n",
      "input_x (InputLayer)         (None, 516)               0         \n",
      "_________________________________________________________________\n",
      "dense1 (Dense)               (None, 512)               264704    \n",
      "_________________________________________________________________\n",
      "batch_normalization_1 (Batch (None, 512)               2048      \n",
      "_________________________________________________________________\n",
      "re_lu_1 (ReLU)               (None, 512)               0         \n",
      "_________________________________________________________________\n",
      "gaussian_noise_1 (GaussianNo (None, 512)               0         \n",
      "_________________________________________________________________\n",
      "dropout_1 (Dropout)          (None, 512)               0         \n",
      "_________________________________________________________________\n",
      "dense2 (Dense)               (None, 1024)              525312    \n",
      "_________________________________________________________________\n",
      "batch_normalization_2 (Batch (None, 1024)              4096      \n",
      "_________________________________________________________________\n",
      "re_lu_2 (ReLU)               (None, 1024)              0         \n",
      "_________________________________________________________________\n",
      "dropout_2 (Dropout)          (None, 1024)              0         \n",
      "_________________________________________________________________\n",
      "gaussian_noise_2 (GaussianNo (None, 1024)              0         \n",
      "_________________________________________________________________\n",
      "dense3 (Dense)               (None, 256)               262400    \n",
      "_________________________________________________________________\n",
      "batch_normalization_3 (Batch (None, 256)               1024      \n",
      "_________________________________________________________________\n",
      "re_lu_3 (ReLU)               (None, 256)               0         \n",
      "_________________________________________________________________\n",
      "dropout_3 (Dropout)          (None, 256)               0         \n",
      "_________________________________________________________________\n",
      "gaussian_noise_3 (GaussianNo (None, 256)               0         \n",
      "_________________________________________________________________\n",
      "output (Dense)               (None, 199)               51143     \n",
      "=================================================================\n",
      "Total params: 1,110,727\n",
      "Trainable params: 1,107,143\n",
      "Non-trainable params: 3,584\n",
      "_________________________________________________________________\n"
     ]
    }
   ],
   "source": [
    "import keras\n",
    "from keras import optimizers\n",
    "import tensorflow as tf\n",
    "from keras.layers import Dropout, BatchNormalization, Activation\n",
    "from keras.callbacks import ModelCheckpoint, EarlyStopping\n",
    "import keras.backend as K\n",
    "\n",
    "batch_size=64\n",
    "num_features = len(sequence_feature_columns)*22 + len(objective_feature_columns)\n",
    "\n",
    "# NN model\n",
    "input_x = keras.layers.Input(shape=(num_features, ), name='input_x')\n",
    "dense1 = keras.layers.Dense(512, name='dense1')\n",
    "dense1_out = dense1(input_x)\n",
    "dense1_out = keras.layers.BatchNormalization()(dense1_out)\n",
    "dense1_out = keras.layers.ReLU()(dense1_out)\n",
    "dense1_out = keras.layers.GaussianNoise(0.15)(dense1_out)\n",
    "dense1_out = keras.layers.Dropout(0.5)(dense1_out)\n",
    "\n",
    "dense2 = keras.layers.Dense(1024, name='dense2')\n",
    "dense2_out = dense2(dense1_out)\n",
    "dense2_out = keras.layers.BatchNormalization()(dense2_out)\n",
    "dense2_out = keras.layers.ReLU()(dense2_out)\n",
    "dense2_out = keras.layers.Dropout(0.5)(dense2_out)\n",
    "dense2_out = keras.layers.GaussianNoise(0.15)(dense2_out)\n",
    "\n",
    "dense3 = keras.layers.Dense(256, name='dense3')\n",
    "dense3_out = dense3(dense2_out)\n",
    "dense3_out = keras.layers.BatchNormalization()(dense3_out)\n",
    "dense3_out = keras.layers.ReLU()(dense3_out)\n",
    "dense3_out = keras.layers.Dropout(0.5)(dense3_out)\n",
    "dense3_out = keras.layers.GaussianNoise(0.15)(dense3_out)\n",
    "\n",
    "dense4 = keras.layers.Dense(199, activation='softmax', name='output')\n",
    "output = dense4(dense3_out)\n",
    "\n",
    "nn_model = keras.models.Model(inputs=[input_x], outputs=[output])\n",
    "nn_model.summary()"
   ]
  },
  {
   "cell_type": "markdown",
   "metadata": {},
   "source": [
    "Create a callback class for evaluation and early stop during the training, since this competition requires use CRPS as the loss function"
   ]
  },
  {
   "cell_type": "code",
   "execution_count": 30,
   "metadata": {},
   "outputs": [],
   "source": [
    "from keras.callbacks import Callback\n",
    "\n",
    "class CRPSCallback(Callback):\n",
    "    def __init__(self, validation):\n",
    "        super(CRPSCallback, self).__init__()\n",
    "        self.validation = validation\n",
    "        \n",
    "    def on_epoch_end(self, epoch, logs={}):\n",
    "        logs['crps'] = float('inf')\n",
    "        \n",
    "        x_val, y_val = self.validation\n",
    "        y_pred = self.model.predict(x_val)\n",
    "        y_true = np.clip(np.cumsum(y_val, axis=1), 0, 1)\n",
    "        y_pred = np.clip(np.cumsum(y_pred, axis=1), 0, 1)\n",
    "        val_s = ((y_true - y_pred) ** 2).sum(axis=1).sum(axis=0) / (199 * x_val.shape[0])\n",
    "        val_s = np.round(val_s, 6)\n",
    "        logs['crps'] = val_s"
   ]
  },
  {
   "cell_type": "markdown",
   "metadata": {},
   "source": [
    "### Training"
   ]
  },
  {
   "cell_type": "code",
   "execution_count": 31,
   "metadata": {},
   "outputs": [],
   "source": [
    "from sklearn.model_selection import train_test_split\n",
    "\n",
    "train = feature_engineering(train)\n",
    "x, y = generate_dataset(train)\n",
    "\n",
    "x_train, x_val, y_train, y_val = train_test_split(x, y, test_size=0.2)"
   ]
  },
  {
   "cell_type": "code",
   "execution_count": 32,
   "metadata": {},
   "outputs": [
    {
     "name": "stdout",
     "output_type": "stream",
     "text": [
      "Epoch 1/200\n",
      "18536/18536 [==============================] - 7s 403us/step - loss: 0.0406\n",
      "\n",
      "Epoch 00001: crps improved from inf to 0.04410, saving model to best_model.h5\n",
      "Epoch 2/200\n",
      "18536/18536 [==============================] - 6s 328us/step - loss: 0.0165\n",
      "\n",
      "Epoch 00002: crps improved from 0.04410 to 0.02288, saving model to best_model.h5\n",
      "Epoch 3/200\n",
      "18536/18536 [==============================] - 6s 323us/step - loss: 0.0152\n",
      "\n",
      "Epoch 00003: crps improved from 0.02288 to 0.01769, saving model to best_model.h5\n",
      "Epoch 4/200\n",
      "18536/18536 [==============================] - 6s 320us/step - loss: 0.0148\n",
      "\n",
      "Epoch 00004: crps improved from 0.01769 to 0.01607, saving model to best_model.h5\n",
      "Epoch 5/200\n",
      "18536/18536 [==============================] - 6s 323us/step - loss: 0.0147\n",
      "\n",
      "Epoch 00005: crps improved from 0.01607 to 0.01525, saving model to best_model.h5\n",
      "Epoch 6/200\n",
      "18536/18536 [==============================] - 6s 327us/step - loss: 0.0146\n",
      "\n",
      "Epoch 00006: crps improved from 0.01525 to 0.01490, saving model to best_model.h5\n",
      "Epoch 7/200\n",
      "18536/18536 [==============================] - 6s 332us/step - loss: 0.0146\n",
      "\n",
      "Epoch 00007: crps improved from 0.01490 to 0.01446, saving model to best_model.h5\n",
      "Epoch 8/200\n",
      "18536/18536 [==============================] - 6s 336us/step - loss: 0.0145\n",
      "\n",
      "Epoch 00008: crps improved from 0.01446 to 0.01427, saving model to best_model.h5\n",
      "Epoch 9/200\n",
      "18536/18536 [==============================] - 6s 347us/step - loss: 0.0144\n",
      "\n",
      "Epoch 00009: crps improved from 0.01427 to 0.01416, saving model to best_model.h5\n",
      "Epoch 10/200\n",
      "18536/18536 [==============================] - 6s 340us/step - loss: 0.0143\n",
      "\n",
      "Epoch 00010: crps improved from 0.01416 to 0.01401, saving model to best_model.h5\n",
      "Epoch 11/200\n",
      "18536/18536 [==============================] - 7s 382us/step - loss: 0.0143\n",
      "\n",
      "Epoch 00011: crps improved from 0.01401 to 0.01388, saving model to best_model.h5\n",
      "Epoch 12/200\n",
      "18536/18536 [==============================] - 6s 347us/step - loss: 0.0143\n",
      "\n",
      "Epoch 00012: crps did not improve from 0.01388\n",
      "Epoch 13/200\n",
      "18536/18536 [==============================] - 8s 435us/step - loss: 0.0142\n",
      "\n",
      "Epoch 00013: crps improved from 0.01388 to 0.01377, saving model to best_model.h5\n",
      "Epoch 14/200\n",
      "18536/18536 [==============================] - 8s 406us/step - loss: 0.0142\n",
      "\n",
      "Epoch 00014: crps improved from 0.01377 to 0.01368, saving model to best_model.h5\n",
      "Epoch 15/200\n",
      "18536/18536 [==============================] - 6s 331us/step - loss: 0.0141\n",
      "\n",
      "Epoch 00015: crps improved from 0.01368 to 0.01361, saving model to best_model.h5\n",
      "Epoch 16/200\n",
      "18536/18536 [==============================] - 6s 329us/step - loss: 0.0141\n",
      "\n",
      "Epoch 00016: crps did not improve from 0.01361\n",
      "Epoch 17/200\n",
      "18536/18536 [==============================] - 6s 337us/step - loss: 0.0141\n",
      "\n",
      "Epoch 00017: crps improved from 0.01361 to 0.01360, saving model to best_model.h5\n",
      "Epoch 18/200\n",
      "18536/18536 [==============================] - 6s 343us/step - loss: 0.0140\n",
      "\n",
      "Epoch 00018: crps improved from 0.01360 to 0.01357, saving model to best_model.h5\n",
      "Epoch 19/200\n",
      "18536/18536 [==============================] - 7s 388us/step - loss: 0.0140\n",
      "\n",
      "Epoch 00019: crps did not improve from 0.01357\n",
      "Epoch 20/200\n",
      "18536/18536 [==============================] - 6s 337us/step - loss: 0.0140\n",
      "\n",
      "Epoch 00020: crps did not improve from 0.01357\n",
      "Epoch 21/200\n",
      "18536/18536 [==============================] - 6s 341us/step - loss: 0.0139\n",
      "\n",
      "Epoch 00021: crps improved from 0.01357 to 0.01351, saving model to best_model.h5\n",
      "Epoch 22/200\n",
      "18536/18536 [==============================] - 6s 347us/step - loss: 0.0139\n",
      "\n",
      "Epoch 00022: crps did not improve from 0.01351\n",
      "Epoch 23/200\n",
      "18536/18536 [==============================] - 6s 343us/step - loss: 0.0138\n",
      "\n",
      "Epoch 00023: crps did not improve from 0.01351\n",
      "Epoch 24/200\n",
      "18536/18536 [==============================] - 7s 355us/step - loss: 0.0138\n",
      "\n",
      "Epoch 00024: crps did not improve from 0.01351\n",
      "Epoch 25/200\n",
      "18536/18536 [==============================] - 11s 583us/step - loss: 0.0138\n",
      "\n",
      "Epoch 00025: crps did not improve from 0.01351\n",
      "Epoch 26/200\n",
      "18536/18536 [==============================] - 9s 494us/step - loss: 0.0138\n",
      "\n",
      "Epoch 00026: crps did not improve from 0.01351\n",
      "Epoch 27/200\n",
      "18536/18536 [==============================] - 8s 431us/step - loss: 0.0138\n",
      "\n",
      "Epoch 00027: crps did not improve from 0.01351\n",
      "Epoch 28/200\n",
      "18536/18536 [==============================] - 5s 286us/step - loss: 0.0137\n",
      "\n",
      "Epoch 00028: crps did not improve from 0.01351\n",
      "Epoch 29/200\n",
      "18536/18536 [==============================] - 7s 378us/step - loss: 0.0137\n",
      "\n",
      "Epoch 00029: crps did not improve from 0.01351\n",
      "Epoch 30/200\n",
      "18536/18536 [==============================] - 5s 293us/step - loss: 0.0137\n",
      "\n",
      "Epoch 00030: crps did not improve from 0.01351\n",
      "Epoch 31/200\n",
      "18536/18536 [==============================] - 6s 301us/step - loss: 0.0136\n",
      "Restoring model weights from the end of the best epoch\n",
      "\n",
      "Epoch 00031: crps did not improve from 0.01351\n",
      "Epoch 00031: early stopping\n"
     ]
    }
   ],
   "source": [
    "nn_model.compile(loss=crps, optimizer=optimizers.Adam(0.0001), metrics=[])\n",
    "\n",
    "mc = ModelCheckpoint(\n",
    "    'best_model.h5',\n",
    "    monitor='crps',\n",
    "    mode='min',\n",
    "    save_best_only=True, \n",
    "    verbose=1, \n",
    "    save_weights_only=True)\n",
    "\n",
    "early_stopping = EarlyStopping(\n",
    "    patience=10, \n",
    "    verbose=1,\n",
    "    restore_best_weights=True, \n",
    "    monitor='crps')\n",
    "\n",
    "history = nn_model.fit(\n",
    "    x_train, y_train, \n",
    "    epochs=200, \n",
    "    callbacks=[CRPSCallback((x_val, y_val)), early_stopping, mc], \n",
    "#     validation_split=0.2,\n",
    "    batch_size=batch_size,\n",
    "    verbose = 1\n",
    ")\n",
    "\n",
    "nn_model.load_weights(\"best_model.h5\")"
   ]
  },
  {
   "cell_type": "code",
   "execution_count": 33,
   "metadata": {},
   "outputs": [
    {
     "data": {
      "image/png": "[encoded data removed]",
      "text/plain": [
       "<Figure size 432x288 with 1 Axes>"
      ]
     },
     "metadata": {
      "needs_background": "light"
     },
     "output_type": "display_data"
    }
   ],
   "source": [
    "import matplotlib.pyplot as plt\n",
    "%matplotlib inline\n",
    "\n",
    "loss = history.history['loss']\n",
    "val_loss = history.history['crps']\n",
    "\n",
    "epochs = range(len(loss))\n",
    "\n",
    "plt.plot(epochs, loss, '-b', label='Trianing loss')\n",
    "plt.plot(epochs, val_loss, '-r', label='Val loss')\n",
    "plt.xlabel('epoch')\n",
    "plt.ylabel('loss')\n",
    "plt.legend()\n",
    "plt.show()"
   ]
  },
  {
   "cell_type": "markdown",
   "metadata": {},
   "source": [
    "### Sequence Model\n",
    "\n",
    "In this model, each game will be one sample of dataset, each play in this game will be a step (sequence) of this data. Therefore, I need to preprocess the data again.\n",
    "\n",
    "\n",
    "The basic idea of this model is we treat the plays as a time sequence events. Each event is depend on the previous event. And the whole game is related to the objective factors, such as weather, home team or visit team.\n",
    "\n",
    "\n",
    "According to this assumption, I used RNN based model to predict how many yards a team can gain."
   ]
  },
  {
   "cell_type": "markdown",
   "metadata": {},
   "source": [
    "#### Split data into two subset\n",
    "\n",
    "1. Objective factors, such as weather, home or away\n",
    "2. Time series features, such as current scores, who is the rusher in the current play."
   ]
  },
  {
   "cell_type": "code",
   "execution_count": 32,
   "metadata": {},
   "outputs": [],
   "source": [
    "def feature_engineering_seq_model():\n",
    "    num_games = train['GameId'].unique().shape[0]\n",
    "    max_plays = train['GameId'].value_counts().max()\n",
    "\n",
    "    print('Total number of games:', num_games)\n",
    "    print('Max number of plays in one game:', max_plays)\n",
    "    \n",
    "    sequence_feature_columns = [\n",
    "        'X', 'Y', 'S', 'A', 'Dis', 'Orientation', 'Dir', 'Down', 'Distance', 'FieldPosition',\n",
    "        'HomeScoreBeforePlay', 'VisitorScoreBeforePlay', 'OffenseFormation', 'OffensePersonnel',\n",
    "        'DefendersInTheBox', 'DefensePersonnel', 'PlayDirection', 'Duration', 'PlayerAge', 'PlayerHeight', \n",
    "        'PlayerWeight', 'Position'\n",
    "    ]\n",
    "\n",
    "\n",
    "    objective_feature_columns = [\n",
    "        'Week', 'StadiumType', 'Turf', 'GameWeather', 'Temperature', 'Humidity',\n",
    "        'WindSpeed', 'WindDirection'\n",
    "    ]"
   ]
  },
  {
   "cell_type": "code",
   "execution_count": 33,
   "metadata": {},
   "outputs": [],
   "source": [
    "def generate_dataset_seq_model():\n",
    "    obj_train = np.zeros((num_games, len(objective_feature_columns)))\n",
    "    home_train = np.zeros((num_games, int(max_plays / 22), len(sequence_feature_columns) * 11 + 1))\n",
    "    away_train = np.zeros((num_games, int(max_plays / 22), len(sequence_feature_columns) * 11 + 1))\n",
    "    y_train = np.zeros((num_games, int(max_plays / 22), 199))\n",
    "    y_idx = 0\n",
    "\n",
    "    for idx, game_id in enumerate(game_ids):\n",
    "        game = train.loc[train['GameId'] == game_id]\n",
    "\n",
    "        obj_train[idx] = np.array(game[objective_feature_columns])[0]\n",
    "\n",
    "        home_team = game.loc[game['Team'] == 0] # home team\n",
    "        away_team = game.loc[game['Team'] == 1] # away team\n",
    "\n",
    "        home_features = np.array(home_team[sequence_feature_columns]).reshape(-1, len(sequence_feature_columns) * 11)\n",
    "        away_features = np.array(away_team[sequence_feature_columns]).reshape(-1, len(sequence_feature_columns) * 11)\n",
    "\n",
    "        # add team col to the front of vector, home: 0, away:1\n",
    "        home_features = np.pad(home_features, ((0, 0), (1, 0)), constant_values=0)  \n",
    "        away_features = np.pad(away_features, ((0, 0), (1, 0)), constant_values=1)\n",
    "\n",
    "        home_train[idx, :home_features.shape[0], :] = home_features\n",
    "        away_train[idx, :home_features.shape[0], :] = home_features\n",
    "\n",
    "        for i, yard in enumerate(game['Yards'][::22]):\n",
    "            y_train[idx, i, yard+99:] = np.ones((1, 100-yard))\n",
    "\n",
    "\n",
    "    print('obj_train shape:', obj_train.shape)\n",
    "    print('home_train shape:', home_train.shape)\n",
    "    print('away_train shape:', away_train.shape)\n",
    "    print('y_train shape:', y_train.shape)\n"
   ]
  },
  {
   "cell_type": "code",
   "execution_count": 34,
   "metadata": {},
   "outputs": [
    {
     "name": "stdout",
     "output_type": "stream",
     "text": [
      "Model: \"model_2\"\n",
      "__________________________________________________________________________________________________\n",
      "Layer (type)                    Output Shape         Param #     Connected to                     \n",
      "==================================================================================================\n",
      "home_sequence_input (InputLayer (None, 85, 253)      0                                            \n",
      "__________________________________________________________________________________________________\n",
      "hidden_input (InputLayer)       (None, 516)          0                                            \n",
      "__________________________________________________________________________________________________\n",
      "away_sequence_input (InputLayer (None, 85, 253)      0                                            \n",
      "__________________________________________________________________________________________________\n",
      "home_sequence_encoder (Dense)   (None, 85, 200)      50800       home_sequence_input[0][0]        \n",
      "__________________________________________________________________________________________________\n",
      "hidden_encoder (Dense)          (None, 200)          103400      hidden_input[0][0]               \n",
      "__________________________________________________________________________________________________\n",
      "away_sequence_encoder (Dense)   (None, 85, 200)      50800       away_sequence_input[0][0]        \n",
      "__________________________________________________________________________________________________\n",
      "dropout_5 (Dropout)             (None, 85, 200)      0           home_sequence_encoder[0][0]      \n",
      "__________________________________________________________________________________________________\n",
      "dropout_4 (Dropout)             (None, 200)          0           hidden_encoder[0][0]             \n",
      "__________________________________________________________________________________________________\n",
      "dropout_6 (Dropout)             (None, 85, 200)      0           away_sequence_encoder[0][0]      \n",
      "__________________________________________________________________________________________________\n",
      "home_gru (GRU)                  (None, 85, 200)      240600      dropout_5[0][0]                  \n",
      "                                                                 dropout_4[0][0]                  \n",
      "__________________________________________________________________________________________________\n",
      "away_gru (GRU)                  (None, 85, 200)      240600      dropout_6[0][0]                  \n",
      "                                                                 dropout_4[0][0]                  \n",
      "__________________________________________________________________________________________________\n",
      "concatenate_1 (Concatenate)     (None, 85, 400)      0           home_gru[0][0]                   \n",
      "                                                                 away_gru[0][0]                   \n",
      "__________________________________________________________________________________________________\n",
      "dropout_7 (Dropout)             (None, 85, 400)      0           concatenate_1[0][0]              \n",
      "__________________________________________________________________________________________________\n",
      "output_layer (Dense)            (None, 85, 199)      79799       dropout_7[0][0]                  \n",
      "==================================================================================================\n",
      "Total params: 765,999\n",
      "Trainable params: 765,999\n",
      "Non-trainable params: 0\n",
      "__________________________________________________________________________________________________\n"
     ]
    }
   ],
   "source": [
    "from keras.models import Model\n",
    "from keras import layers\n",
    "from keras import Input\n",
    "\n",
    "num_hidden = 200\n",
    "seq_num_features = len(sequence_feature_columns) * 11\n",
    "max_plays = 1870\n",
    "\n",
    "cell_state_input = Input(shape=[num_features], name='hidden_input')\n",
    "cell_state_encoding = layers.Dense(num_hidden, activation='relu', name='hidden_encoder')(cell_state_input)\n",
    "cell_state_encoding = layers.Dropout(0.5)(cell_state_encoding)\n",
    "\n",
    "home_seq_input = Input(shape=[int(max_plays / 22), seq_num_features], name='home_sequence_input')\n",
    "home_seq_encoding = layers.Dense(num_hidden, activation='relu', name='home_sequence_encoder')(home_seq_input)\n",
    "home_seq_encoding = layers.Dropout(0.5)(home_seq_encoding)\n",
    "\n",
    "away_seq_input = Input(shape=[int(max_plays / 22), seq_num_features], name='away_sequence_input')\n",
    "away_seq_encoding = layers.Dense(num_hidden, activation='relu', name='away_sequence_encoder')(away_seq_input)\n",
    "away_seq_encoding = layers.Dropout(0.5)(away_seq_encoding)\n",
    "\n",
    "home_gru = layers.GRU(\n",
    "    num_hidden, \n",
    "    return_sequences=True, \n",
    "    dropout=0.5, \n",
    "    name='home_gru')\n",
    "home_gru_outputs = home_gru(home_seq_encoding, initial_state=[cell_state_encoding])\n",
    "\n",
    "away_gru = layers.GRU(\n",
    "    num_hidden, \n",
    "    return_sequences=True, \n",
    "    dropout=0.5, \n",
    "    name='away_gru')\n",
    "away_gru_outputs = away_gru(away_seq_encoding, initial_state=[cell_state_encoding])\n",
    "\n",
    "concatenated = layers.Concatenate()([home_gru_outputs, away_gru_outputs])\n",
    "concatenated = layers.Dropout(0.5)(concatenated)\n",
    "output = layers.Dense(199, activation='softmax', name='output_layer')(concatenated)\n",
    "\n",
    "rnn_model = Model(inputs=[cell_state_input, home_seq_input, away_seq_input], outputs=[output])\n",
    "\n",
    "rnn_model.summary()"
   ]
  },
  {
   "cell_type": "code",
   "execution_count": 35,
   "metadata": {},
   "outputs": [],
   "source": [
    "# from keras import optimizers\n",
    "# from keras.callbacks import EarlyStopping\n",
    "\n",
    "# learning_rate = 1e-3\n",
    "\n",
    "# rnn_model.compile(optimizer=RAdam(warmup_proportion=0.1, min_lr=learning_rate), loss=crps)\n",
    "# # rnn_model.compile(optimizer=optimizers.Adam(learning_rate=learning_rate), loss='categorical_crossentropy')\n",
    "# er = EarlyStopping(patience=20, min_delta=1e-4, restore_best_weights=True, monitor='val_loss')\n",
    "# rnn_model.fit([obj_train, home_train, away_train], y_train, epochs=100, batch_size=1, validation_split=0.2)"
   ]
  },
  {
   "cell_type": "markdown",
   "metadata": {},
   "source": [
    "## Submission"
   ]
  },
  {
   "cell_type": "code",
   "execution_count": 36,
   "metadata": {},
   "outputs": [
    {
     "data": {
      "application/vnd.jupyter.widget-view+json": {
       "model_id": "fdfb4ac9df9943779ccadac966fd246f",
       "version_major": 2,
       "version_minor": 0
      },
      "text/plain": [
       "HBox(children=(IntProgress(value=1, bar_style='info', max=1), HTML(value='')))"
      ]
     },
     "metadata": {},
     "output_type": "display_data"
    },
    {
     "name": "stdout",
     "output_type": "stream",
     "text": [
      "\n",
      "Your submission file has been saved!  Once you `Commit` your Notebook and it finishes running, you can submit the file to the competition from the Notebook Viewer `Output` tab.\n"
     ]
    }
   ],
   "source": [
    "from tqdm.notebook import tqdm\n",
    "\n",
    "iter_test = env.iter_test()\n",
    "for test_df, sample_prediction_df in tqdm(iter_test):\n",
    "    test = feature_engineering(test_df)\n",
    "    x_test, _ = generate_dataset(test)\n",
    "    \n",
    "    y_pred = nn_model.predict(x_test)\n",
    "    y_pred = np.clip(np.cumsum(y_pred, axis=1), 0, 1).tolist()[0]\n",
    "    preds_df = pd.DataFrame(data=[y_pred], columns=sample_prediction_df.columns)\n",
    "    env.predict(preds_df)\n",
    "\n",
    "env.write_submission_file()"
   ]
  },
  {
   "cell_type": "code",
   "execution_count": null,
   "metadata": {},
   "outputs": [],
   "source": []
  }
 ],
 "metadata": {
  "kernelspec": {
   "display_name": "Python 3",
   "language": "python",
   "name": "python3"
  },
  "language_info": {
   "codemirror_mode": {
    "name": "ipython",
    "version": 3
   },
   "file_extension": ".py",
   "mimetype": "text/x-python",
   "name": "python",
   "nbconvert_exporter": "python",
   "pygments_lexer": "ipython3",
   "version": "3.7.5"
  },
  "widgets": {
   "application/vnd.jupyter.widget-state+json": {
    "state": {
     "12f5b3aca66f4b68889cb6429f66adfa": {
      "model_module": "@jupyter-widgets/controls",
      "model_module_version": "1.5.0",
      "model_name": "HTMLModel",
      "state": {
       "_dom_classes": [],
       "_model_module": "@jupyter-widgets/controls",
       "_model_module_version": "1.5.0",
       "_model_name": "HTMLModel",
       "_view_count": null,
       "_view_module": "@jupyter-widgets/controls",
       "_view_module_version": "1.5.0",
       "_view_name": "HTMLView",
       "description": "",
       "description_tooltip": null,
       "layout": "IPY_MODEL_bb5c7a53b74d44599d55ab8494cbdae8",
       "placeholder": "​",
       "style": "IPY_MODEL_13711baa67054b4e936865d29bff3012",
       "value": " 3438/? [05:48&lt;00:00,  9.88it/s]"
      }
     },
     "13711baa67054b4e936865d29bff3012": {
      "model_module": "@jupyter-widgets/controls",
      "model_module_version": "1.5.0",
      "model_name": "DescriptionStyleModel",
      "state": {
       "_model_module": "@jupyter-widgets/controls",
       "_model_module_version": "1.5.0",
       "_model_name": "DescriptionStyleModel",
       "_view_count": null,
       "_view_module": "@jupyter-widgets/base",
       "_view_module_version": "1.2.0",
       "_view_name": "StyleView",
       "description_width": ""
      }
     },
     "1b9c4e118f3e4edfbb8e70b835e58fac": {
      "model_module": "@jupyter-widgets/controls",
      "model_module_version": "1.5.0",
      "model_name": "ProgressStyleModel",
      "state": {
       "_model_module": "@jupyter-widgets/controls",
       "_model_module_version": "1.5.0",
       "_model_name": "ProgressStyleModel",
       "_view_count": null,
       "_view_module": "@jupyter-widgets/base",
       "_view_module_version": "1.2.0",
       "_view_name": "StyleView",
       "bar_color": null,
       "description_width": "initial"
      }
     },
     "9f5bbed253a0407d8309cd8c24e3f977": {
      "model_module": "@jupyter-widgets/base",
      "model_module_version": "1.2.0",
      "model_name": "LayoutModel",
      "state": {
       "_model_module": "@jupyter-widgets/base",
       "_model_module_version": "1.2.0",
       "_model_name": "LayoutModel",
       "_view_count": null,
       "_view_module": "@jupyter-widgets/base",
       "_view_module_version": "1.2.0",
       "_view_name": "LayoutView",
       "align_content": null,
       "align_items": null,
       "align_self": null,
       "border": null,
       "bottom": null,
       "display": null,
       "flex": null,
       "flex_flow": null,
       "grid_area": null,
       "grid_auto_columns": null,
       "grid_auto_flow": null,
       "grid_auto_rows": null,
       "grid_column": null,
       "grid_gap": null,
       "grid_row": null,
       "grid_template_areas": null,
       "grid_template_columns": null,
       "grid_template_rows": null,
       "height": null,
       "justify_content": null,
       "justify_items": null,
       "left": null,
       "margin": null,
       "max_height": null,
       "max_width": null,
       "min_height": null,
       "min_width": null,
       "object_fit": null,
       "object_position": null,
       "order": null,
       "overflow": null,
       "overflow_x": null,
       "overflow_y": null,
       "padding": null,
       "right": null,
       "top": null,
       "visibility": null,
       "width": null
      }
     },
     "bb5c7a53b74d44599d55ab8494cbdae8": {
      "model_module": "@jupyter-widgets/base",
      "model_module_version": "1.2.0",
      "model_name": "LayoutModel",
      "state": {
       "_model_module": "@jupyter-widgets/base",
       "_model_module_version": "1.2.0",
       "_model_name": "LayoutModel",
       "_view_count": null,
       "_view_module": "@jupyter-widgets/base",
       "_view_module_version": "1.2.0",
       "_view_name": "LayoutView",
       "align_content": null,
       "align_items": null,
       "align_self": null,
       "border": null,
       "bottom": null,
       "display": null,
       "flex": null,
       "flex_flow": null,
       "grid_area": null,
       "grid_auto_columns": null,
       "grid_auto_flow": null,
       "grid_auto_rows": null,
       "grid_column": null,
       "grid_gap": null,
       "grid_row": null,
       "grid_template_areas": null,
       "grid_template_columns": null,
       "grid_template_rows": null,
       "height": null,
       "justify_content": null,
       "justify_items": null,
       "left": null,
       "margin": null,
       "max_height": null,
       "max_width": null,
       "min_height": null,
       "min_width": null,
       "object_fit": null,
       "object_position": null,
       "order": null,
       "overflow": null,
       "overflow_x": null,
       "overflow_y": null,
       "padding": null,
       "right": null,
       "top": null,
       "visibility": null,
       "width": null
      }
     },
     "cdc95568e513423d96569540c6b40838": {
      "model_module": "@jupyter-widgets/base",
      "model_module_version": "1.2.0",
      "model_name": "LayoutModel",
      "state": {
       "_model_module": "@jupyter-widgets/base",
       "_model_module_version": "1.2.0",
       "_model_name": "LayoutModel",
       "_view_count": null,
       "_view_module": "@jupyter-widgets/base",
       "_view_module_version": "1.2.0",
       "_view_name": "LayoutView",
       "align_content": null,
       "align_items": null,
       "align_self": null,
       "border": null,
       "bottom": null,
       "display": null,
       "flex": null,
       "flex_flow": null,
       "grid_area": null,
       "grid_auto_columns": null,
       "grid_auto_flow": null,
       "grid_auto_rows": null,
       "grid_column": null,
       "grid_gap": null,
       "grid_row": null,
       "grid_template_areas": null,
       "grid_template_columns": null,
       "grid_template_rows": null,
       "height": null,
       "justify_content": null,
       "justify_items": null,
       "left": null,
       "margin": null,
       "max_height": null,
       "max_width": null,
       "min_height": null,
       "min_width": null,
       "object_fit": null,
       "object_position": null,
       "order": null,
       "overflow": null,
       "overflow_x": null,
       "overflow_y": null,
       "padding": null,
       "right": null,
       "top": null,
       "visibility": null,
       "width": null
      }
     },
     "d1689ff4a7e6444a994b42d8568ff74e": {
      "model_module": "@jupyter-widgets/controls",
      "model_module_version": "1.5.0",
      "model_name": "IntProgressModel",
      "state": {
       "_dom_classes": [],
       "_model_module": "@jupyter-widgets/controls",
       "_model_module_version": "1.5.0",
       "_model_name": "IntProgressModel",
       "_view_count": null,
       "_view_module": "@jupyter-widgets/controls",
       "_view_module_version": "1.5.0",
       "_view_name": "ProgressView",
       "bar_style": "success",
       "description": "",
       "description_tooltip": null,
       "layout": "IPY_MODEL_cdc95568e513423d96569540c6b40838",
       "max": 1,
       "min": 0,
       "orientation": "horizontal",
       "style": "IPY_MODEL_1b9c4e118f3e4edfbb8e70b835e58fac",
       "value": 1
      }
     },
     "fdfb4ac9df9943779ccadac966fd246f": {
      "model_module": "@jupyter-widgets/controls",
      "model_module_version": "1.5.0",
      "model_name": "HBoxModel",
      "state": {
       "_dom_classes": [],
       "_model_module": "@jupyter-widgets/controls",
       "_model_module_version": "1.5.0",
       "_model_name": "HBoxModel",
       "_view_count": null,
       "_view_module": "@jupyter-widgets/controls",
       "_view_module_version": "1.5.0",
       "_view_name": "HBoxView",
       "box_style": "",
       "children": [
        "IPY_MODEL_d1689ff4a7e6444a994b42d8568ff74e",
        "IPY_MODEL_12f5b3aca66f4b68889cb6429f66adfa"
       ],
       "layout": "IPY_MODEL_9f5bbed253a0407d8309cd8c24e3f977"
      }
     }
    },
    "version_major": 2,
    "version_minor": 0
   }
  }
 },
 "nbformat": 4,
 "nbformat_minor": 1
}
