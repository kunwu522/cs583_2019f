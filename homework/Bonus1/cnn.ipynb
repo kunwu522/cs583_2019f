{
 "cells": [
  {
   "cell_type": "markdown",
   "metadata": {
    "colab_type": "text",
    "id": "iEWU62Y8GDod"
   },
   "source": [
    "# Home 3: Build a CNN for image recognition.\n",
    "\n",
    "### Name: Kun Wu\n"
   ]
  },
  {
   "cell_type": "markdown",
   "metadata": {
    "colab_type": "text",
    "id": "Tj_WTvO5GDof"
   },
   "source": [
    "## 0. You will do the following:\n",
    "\n",
    "1. Read, complete, and run the code.\n",
    "\n",
    "2. **Make substantial improvements** to maximize the accurcy.\n",
    "    \n",
    "3. Convert the .IPYNB file to .HTML file.\n",
    "\n",
    "    * The HTML file must contain the code and the output after execution.\n",
    "    \n",
    "    \n",
    "4. Upload this .HTML file to your Github repo.\n",
    "\n",
    "4. Submit the link to this .HTML file to Canvas.\n",
    "\n",
    "    * Example: https://github.com/wangshusen/CS583-2019F/blob/master/homework/HM3/HM3.html\n",
    "\n",
    "\n",
    "## Requirements:\n",
    "\n",
    "1. You can use whatever CNN architecture, including VGG, Inception, and ResNet. However, you must build the networks layer by layer. You must NOT import the archetectures from ```keras.applications```.\n",
    "\n",
    "2. Make sure ```BatchNormalization``` is between a ```Conv```/```Dense``` layer and an ```activation``` layer.\n",
    "\n",
    "3. If you want to regularize a ```Conv```/```Dense``` layer, you should place a ```Dropout``` layer **before** the ```Conv```/```Dense``` layer.\n",
    "\n",
    "4. An accuracy above 70% is considered reasonable. An accuracy above 80% is considered good. Without data augmentation, achieving 80% accuracy is difficult.\n",
    "\n",
    "\n",
    "## Google Colab\n",
    "\n",
    "- If you do not have GPU, the training of a CNN can be slow. Google Colab is a good option.\n",
    "\n",
    "- Keep in mind that you must download it as an IPYNB file and then use IPython Notebook to convert it to HTML.\n",
    "\n",
    "- Also keep in mind that the IPYNB and HTML files must contain the outputs. (Otherwise, the instructor will not be able to know the correctness and performance.) Do the followings to keep the outputs.\n",
    "\n",
    "- In Colab, go to ```Runtime``` --> ```Change runtime type``` --> Do NOT check ```Omit code cell output when saving this notebook```. In this way, the downloaded IPYNB file contains the outputs."
   ]
  },
  {
   "cell_type": "markdown",
   "metadata": {
    "colab_type": "text",
    "id": "6EevooumGDog"
   },
   "source": [
    "## 1. Data preparation"
   ]
  },
  {
   "cell_type": "markdown",
   "metadata": {
    "colab_type": "text",
    "id": "k6gkcug2GDoh"
   },
   "source": [
    "### 1.1. Load data\n"
   ]
  },
  {
   "cell_type": "code",
   "execution_count": 1,
   "metadata": {
    "colab": {
     "base_uri": "https://localhost:8080/",
     "height": 199
    },
    "colab_type": "code",
    "id": "Xt34WncxGDoh",
    "outputId": "0189aa27-9f7e-4643-9c45-abeae0f31905"
   },
   "outputs": [
    {
     "name": "stderr",
     "output_type": "stream",
     "text": [
      "Using TensorFlow backend.\n"
     ]
    },
    {
     "data": {
      "text/html": [
       "<p style=\"color: red;\">\n",
       "The default version of TensorFlow in Colab will soon switch to TensorFlow 2.x.<br>\n",
       "We recommend you <a href=\"https://www.tensorflow.org/guide/migrate\" target=\"_blank\">upgrade</a> now \n",
       "or ensure your notebook will continue to use TensorFlow 1.x via the <code>%tensorflow_version 1.x</code> magic:\n",
       "<a href=\"https://colab.research.google.com/notebooks/tensorflow_version.ipynb\" target=\"_blank\">more info</a>.</p>\n"
      ],
      "text/plain": [
       "<IPython.core.display.HTML object>"
      ]
     },
     "metadata": {
      "tags": []
     },
     "output_type": "display_data"
    },
    {
     "name": "stdout",
     "output_type": "stream",
     "text": [
      "Downloading data from https://www.cs.toronto.edu/~kriz/cifar-10-python.tar.gz\n",
      "170500096/170498071 [==============================] - 3s 0us/step\n",
      "shape of x_train: (50000, 32, 32, 3)\n",
      "shape of y_train: (50000, 1)\n",
      "shape of x_test: (10000, 32, 32, 3)\n",
      "shape of y_test: (10000, 1)\n",
      "number of classes: 10\n"
     ]
    }
   ],
   "source": [
    "from keras.datasets import cifar10\n",
    "import numpy\n",
    "\n",
    "(x_train, y_train), (x_test, y_test) = cifar10.load_data()\n",
    "\n",
    "print('shape of x_train: ' + str(x_train.shape))\n",
    "print('shape of y_train: ' + str(y_train.shape))\n",
    "print('shape of x_test: ' + str(x_test.shape))\n",
    "print('shape of y_test: ' + str(y_test.shape))\n",
    "print('number of classes: ' + str(numpy.max(y_train) - numpy.min(y_train) + 1))"
   ]
  },
  {
   "cell_type": "markdown",
   "metadata": {
    "colab_type": "text",
    "id": "ITagzCIpGDol"
   },
   "source": [
    "### 1.2. One-hot encode the labels\n",
    "\n",
    "In the input, a label is a scalar in $\\{0, 1, \\cdots , 9\\}$. One-hot encode transform such a scalar to a $10$-dim vector. E.g., a scalar ```y_train[j]=3``` is transformed to the vector ```y_train_vec[j]=[0, 0, 0, 1, 0, 0, 0, 0, 0, 0]```.\n",
    "\n",
    "1. Define a function ```to_one_hot``` that transforms an $n\\times 1$ array to a $n\\times 10$ matrix.\n",
    "\n",
    "2. Apply the function to ```y_train``` and ```y_test```."
   ]
  },
  {
   "cell_type": "code",
   "execution_count": 2,
   "metadata": {
    "colab": {
     "base_uri": "https://localhost:8080/",
     "height": 85
    },
    "colab_type": "code",
    "id": "WPHI_qQ-GDol",
    "outputId": "bae55381-dc2d-4cb3-c02f-3691ba299e73"
   },
   "outputs": [
    {
     "name": "stdout",
     "output_type": "stream",
     "text": [
      "Shape of y_train_vec: (50000, 10)\n",
      "Shape of y_test_vec: (10000, 10)\n",
      "[6]\n",
      "[0. 0. 0. 0. 0. 0. 1. 0. 0. 0.]\n"
     ]
    }
   ],
   "source": [
    "def to_one_hot(y, num_class=10):\n",
    "    return numpy.eye(num_class)[y.reshape(-1)]\n",
    "\n",
    "y_train_vec = to_one_hot(y_train)\n",
    "y_test_vec = to_one_hot(y_test)\n",
    "\n",
    "print('Shape of y_train_vec: ' + str(y_train_vec.shape))\n",
    "print('Shape of y_test_vec: ' + str(y_test_vec.shape))\n",
    "\n",
    "print(y_train[0])\n",
    "print(y_train_vec[0])"
   ]
  },
  {
   "cell_type": "markdown",
   "metadata": {
    "colab_type": "text",
    "id": "mzAIbpLmGDon"
   },
   "source": [
    "#### Remark: the outputs should be\n",
    "* Shape of y_train_vec: (50000, 10)\n",
    "* Shape of y_test_vec: (10000, 10)\n",
    "* [6]\n",
    "* [0. 0. 0. 0. 0. 0. 1. 0. 0. 0.]"
   ]
  },
  {
   "cell_type": "markdown",
   "metadata": {
    "colab_type": "text",
    "id": "QGzvlIN6GDoo"
   },
   "source": [
    "### 1.3. Randomly partition the training set to training and validation sets\n",
    "\n",
    "Randomly partition the 50K training samples to 2 sets:\n",
    "* a training set containing 40K samples\n",
    "* a validation set containing 10K samples\n"
   ]
  },
  {
   "cell_type": "code",
   "execution_count": 3,
   "metadata": {
    "colab": {
     "base_uri": "https://localhost:8080/",
     "height": 85
    },
    "colab_type": "code",
    "id": "S6XrtXh7GDoo",
    "outputId": "ab510b9a-339f-47c1-e396-f14de446b2be"
   },
   "outputs": [
    {
     "name": "stdout",
     "output_type": "stream",
     "text": [
      "Shape of x_tr: (40000, 32, 32, 3)\n",
      "Shape of y_tr: (40000, 10)\n",
      "Shape of x_val: (10000, 32, 32, 3)\n",
      "Shape of y_val: (10000, 10)\n"
     ]
    }
   ],
   "source": [
    "rand_indices = numpy.random.permutation(50000)\n",
    "train_indices = rand_indices[0:40000]\n",
    "valid_indices = rand_indices[40000:50000]\n",
    "\n",
    "x_val = x_train[valid_indices, :]\n",
    "y_val = y_train_vec[valid_indices, :]\n",
    "\n",
    "x_tr = x_train[train_indices, :]\n",
    "y_tr = y_train_vec[train_indices, :]\n",
    "\n",
    "print('Shape of x_tr: ' + str(x_tr.shape))\n",
    "print('Shape of y_tr: ' + str(y_tr.shape))\n",
    "print('Shape of x_val: ' + str(x_val.shape))\n",
    "print('Shape of y_val: ' + str(y_val.shape))"
   ]
  },
  {
   "cell_type": "markdown",
   "metadata": {
    "colab_type": "text",
    "id": "FvLlcOJ4GDoq"
   },
   "source": [
    "## 2. Build a CNN and tune its hyper-parameters\n",
    "\n",
    "1. Build a convolutional neural network model\n",
    "2. Use the validation data to tune the hyper-parameters (e.g., network structure, and optimization algorithm)\n",
    "    * Do NOT use test data for hyper-parameter tuning!!!\n",
    "3. Try to achieve a validation accuracy as high as possible."
   ]
  },
  {
   "cell_type": "markdown",
   "metadata": {
    "colab_type": "text",
    "id": "IJSvD6DPGDor"
   },
   "source": [
    "### Remark: \n",
    "\n",
    "The following CNN is just an example. You are supposed to make **substantial improvements** such as:\n",
    "* Add more layers.\n",
    "* Use regularizations, e.g., dropout.\n",
    "* Use batch normalization."
   ]
  },
  {
   "cell_type": "code",
   "execution_count": 78,
   "metadata": {
    "colab": {
     "base_uri": "https://localhost:8080/",
     "height": 901
    },
    "colab_type": "code",
    "id": "1Yqtp9lFGDor",
    "outputId": "799016d6-257e-4bba-aba2-538ce86aeb27"
   },
   "outputs": [
    {
     "name": "stdout",
     "output_type": "stream",
     "text": [
      "Model: \"sequential_21\"\n",
      "_________________________________________________________________\n",
      "Layer (type)                 Output Shape              Param #   \n",
      "=================================================================\n",
      "conv2d_65 (Conv2D)           (None, 32, 32, 32)        896       \n",
      "_________________________________________________________________\n",
      "batch_normalization_85 (Batc (None, 32, 32, 32)        128       \n",
      "_________________________________________________________________\n",
      "activation_85 (Activation)   (None, 32, 32, 32)        0         \n",
      "_________________________________________________________________\n",
      "conv2d_66 (Conv2D)           (None, 32, 32, 32)        9248      \n",
      "_________________________________________________________________\n",
      "batch_normalization_86 (Batc (None, 32, 32, 32)        128       \n",
      "_________________________________________________________________\n",
      "activation_86 (Activation)   (None, 32, 32, 32)        0         \n",
      "_________________________________________________________________\n",
      "max_pooling2d_43 (MaxPooling (None, 16, 16, 32)        0         \n",
      "_________________________________________________________________\n",
      "dropout_50 (Dropout)         (None, 16, 16, 32)        0         \n",
      "_________________________________________________________________\n",
      "conv2d_67 (Conv2D)           (None, 16, 16, 64)        18496     \n",
      "_________________________________________________________________\n",
      "batch_normalization_87 (Batc (None, 16, 16, 64)        256       \n",
      "_________________________________________________________________\n",
      "activation_87 (Activation)   (None, 16, 16, 64)        0         \n",
      "_________________________________________________________________\n",
      "conv2d_68 (Conv2D)           (None, 16, 16, 64)        36928     \n",
      "_________________________________________________________________\n",
      "batch_normalization_88 (Batc (None, 16, 16, 64)        256       \n",
      "_________________________________________________________________\n",
      "activation_88 (Activation)   (None, 16, 16, 64)        0         \n",
      "_________________________________________________________________\n",
      "max_pooling2d_44 (MaxPooling (None, 8, 8, 64)          0         \n",
      "_________________________________________________________________\n",
      "flatten_21 (Flatten)         (None, 4096)              0         \n",
      "_________________________________________________________________\n",
      "dropout_51 (Dropout)         (None, 4096)              0         \n",
      "_________________________________________________________________\n",
      "dense_41 (Dense)             (None, 128)               524416    \n",
      "_________________________________________________________________\n",
      "batch_normalization_89 (Batc (None, 128)               512       \n",
      "_________________________________________________________________\n",
      "activation_89 (Activation)   (None, 128)               0         \n",
      "_________________________________________________________________\n",
      "dropout_52 (Dropout)         (None, 128)               0         \n",
      "_________________________________________________________________\n",
      "dense_42 (Dense)             (None, 10)                1290      \n",
      "=================================================================\n",
      "Total params: 592,554\n",
      "Trainable params: 591,914\n",
      "Non-trainable params: 640\n",
      "_________________________________________________________________\n"
     ]
    }
   ],
   "source": [
    "from keras.layers import Conv2D, MaxPooling2D, Flatten, Dense\n",
    "from keras.layers import Dropout, BatchNormalization, Activation\n",
    "from keras.models import Sequential\n",
    "\n",
    "model = Sequential()\n",
    "model.add(Conv2D(32, (3, 3), padding='same', input_shape=(32, 32, 3)))\n",
    "model.add(BatchNormalization())\n",
    "model.add(Activation('relu'))\n",
    "model.add(Conv2D(32, (3, 3), padding='same'))\n",
    "model.add(BatchNormalization())\n",
    "model.add(Activation('relu'))\n",
    "model.add(MaxPooling2D((2, 2)))\n",
    "model.add(Dropout(0.25))\n",
    "\n",
    "model.add(Conv2D(64, (3, 3), padding='same'))\n",
    "model.add(BatchNormalization())\n",
    "model.add(Activation('relu'))\n",
    "model.add(Conv2D(64, (3, 3), padding='same'))\n",
    "model.add(BatchNormalization())\n",
    "model.add(Activation('relu'))\n",
    "model.add(MaxPooling2D((2, 2)))\n",
    "model.add(Dropout(0.25))\n",
    "\n",
    "model.add(Conv2D(128, (3, 3), padding='same'))\n",
    "model.add(BatchNormalization())\n",
    "model.add(Activation('relu'))\n",
    "model.add(Conv2D(128, (3, 3), padding='same'))\n",
    "model.add(BatchNormalization())\n",
    "model.add(Activation('relu'))\n",
    "model.add(MaxPooling2D((2, 2)))\n",
    "\n",
    "\n",
    "model.add(Flatten())\n",
    "model.add(Dropout(0.25))\n",
    "model.add(Dense(128))\n",
    "model.add(BatchNormalization())\n",
    "model.add(Activation('relu'))\n",
    "# model.add(Dropout(0.5))\n",
    "model.add(Dense(10, activation='softmax'))\n",
    "\n",
    "model.summary()"
   ]
  },
  {
   "cell_type": "code",
   "execution_count": 89,
   "metadata": {
    "colab": {
     "base_uri": "https://localhost:8080/",
     "height": 867
    },
    "colab_type": "code",
    "id": "tRmBXr3ULWQE",
    "outputId": "b6db1925-b1a8-4c3a-f1f0-3961fa941f62"
   },
   "outputs": [
    {
     "name": "stdout",
     "output_type": "stream",
     "text": [
      "Model: \"model_1\"\n",
      "__________________________________________________________________________________________________\n",
      "Layer (type)                    Output Shape         Param #     Connected to                     \n",
      "==================================================================================================\n",
      "input_3 (InputLayer)            (None, 32, 32, 3)    0                                            \n",
      "__________________________________________________________________________________________________\n",
      "conv2d_79 (Conv2D)              (None, 32, 32, 64)   256         input_3[0][0]                    \n",
      "__________________________________________________________________________________________________\n",
      "conv2d_81 (Conv2D)              (None, 32, 32, 64)   256         input_3[0][0]                    \n",
      "__________________________________________________________________________________________________\n",
      "batch_normalization_100 (BatchN (None, 32, 32, 64)   256         conv2d_79[0][0]                  \n",
      "__________________________________________________________________________________________________\n",
      "batch_normalization_102 (BatchN (None, 32, 32, 64)   256         conv2d_81[0][0]                  \n",
      "__________________________________________________________________________________________________\n",
      "activation_98 (Activation)      (None, 32, 32, 64)   0           batch_normalization_100[0][0]    \n",
      "__________________________________________________________________________________________________\n",
      "activation_100 (Activation)     (None, 32, 32, 64)   0           batch_normalization_102[0][0]    \n",
      "__________________________________________________________________________________________________\n",
      "conv2d_80 (Conv2D)              (None, 32, 32, 64)   36928       activation_98[0][0]              \n",
      "__________________________________________________________________________________________________\n",
      "conv2d_82 (Conv2D)              (None, 32, 32, 64)   102464      activation_100[0][0]             \n",
      "__________________________________________________________________________________________________\n",
      "max_pooling2d_47 (MaxPooling2D) (None, 32, 32, 3)    0           input_3[0][0]                    \n",
      "__________________________________________________________________________________________________\n",
      "batch_normalization_101 (BatchN (None, 32, 32, 64)   256         conv2d_80[0][0]                  \n",
      "__________________________________________________________________________________________________\n",
      "batch_normalization_103 (BatchN (None, 32, 32, 64)   256         conv2d_82[0][0]                  \n",
      "__________________________________________________________________________________________________\n",
      "conv2d_83 (Conv2D)              (None, 32, 32, 64)   256         max_pooling2d_47[0][0]           \n",
      "__________________________________________________________________________________________________\n",
      "activation_99 (Activation)      (None, 32, 32, 64)   0           batch_normalization_101[0][0]    \n",
      "__________________________________________________________________________________________________\n",
      "activation_101 (Activation)     (None, 32, 32, 64)   0           batch_normalization_103[0][0]    \n",
      "__________________________________________________________________________________________________\n",
      "batch_normalization_104 (BatchN (None, 32, 32, 64)   256         conv2d_83[0][0]                  \n",
      "__________________________________________________________________________________________________\n",
      "concatenate_2 (Concatenate)     (None, 32, 32, 192)  0           activation_99[0][0]              \n",
      "                                                                 activation_101[0][0]             \n",
      "                                                                 batch_normalization_104[0][0]    \n",
      "__________________________________________________________________________________________________\n",
      "flatten_23 (Flatten)            (None, 196608)       0           concatenate_2[0][0]              \n",
      "__________________________________________________________________________________________________\n",
      "dropout_54 (Dropout)            (None, 196608)       0           flatten_23[0][0]                 \n",
      "__________________________________________________________________________________________________\n",
      "dense_44 (Dense)                (None, 10)           1966090     dropout_54[0][0]                 \n",
      "==================================================================================================\n",
      "Total params: 2,107,530\n",
      "Trainable params: 2,106,890\n",
      "Non-trainable params: 640\n",
      "__________________________________________________________________________________________________\n"
     ]
    }
   ],
   "source": [
    "import keras\n",
    "from keras.models import Model\n",
    "from keras.layers import Input\n",
    "input_img = Input(shape=(32, 32, 3))\n",
    "tower_1 = Conv2D(64, (1,1), padding='same')(input_img)\n",
    "tower_1 = BatchNormalization()(tower_1)\n",
    "tower_1 = Activation('relu')(tower_1)\n",
    "tower_1 = Conv2D(64, (3,3), padding='same')(tower_1)\n",
    "tower_1 = BatchNormalization()(tower_1)\n",
    "tower_1 = Activation('relu')(tower_1)\n",
    "\n",
    "tower_2 = Conv2D(64, (1,1), padding='same')(input_img)\n",
    "tower_2 = BatchNormalization()(tower_2)\n",
    "tower_2 = Activation('relu')(tower_2)\n",
    "tower_2 = Conv2D(64, (5,5), padding='same')(tower_2)\n",
    "tower_2 = BatchNormalization()(tower_2)\n",
    "tower_2 = Activation('relu')(tower_2)\n",
    "\n",
    "tower_3 = MaxPooling2D((3, 3), strides=(1, 1), padding='same')(input_img)\n",
    "tower_3 = Conv2D(64, (1, 1), padding='same')(tower_3)\n",
    "tower_3 = BatchNormalization()(tower_3)\n",
    "\n",
    "output = keras.layers.concatenate([tower_1, tower_2, tower_3], axis=3)\n",
    "output = Flatten()(output)\n",
    "output = Dropout(0.5)(output)\n",
    "out = Dense(10, activation='softmax')(output)\n",
    "\n",
    "model_inception = Model(inputs=input_img, outputs=out)\n",
    "model_inception.summary()"
   ]
  },
  {
   "cell_type": "code",
   "execution_count": 0,
   "metadata": {
    "colab": {},
    "colab_type": "code",
    "id": "OtbH3CISGDot"
   },
   "outputs": [],
   "source": [
    "from keras import optimizers\n",
    "\n",
    "learning_rate = 1E-3 # to be tuned!\n",
    "\n",
    "model.compile(loss='categorical_crossentropy',\n",
    "              optimizer=optimizers.RMSprop(lr=learning_rate),\n",
    "              metrics=['acc'])"
   ]
  },
  {
   "cell_type": "code",
   "execution_count": 80,
   "metadata": {
    "colab": {
     "base_uri": "https://localhost:8080/",
     "height": 867
    },
    "colab_type": "code",
    "id": "CK5aFOW8GDov",
    "outputId": "2c42455a-9fde-4b30-8fab-5feb4ac16c4e"
   },
   "outputs": [
    {
     "name": "stdout",
     "output_type": "stream",
     "text": [
      "Epoch 1/25\n",
      "1250/1250 [==============================] - 50s 40ms/step - loss: 2.0080 - acc: 0.3125 - val_loss: 1.4536 - val_acc: 0.4685\n",
      "Epoch 2/25\n",
      "1250/1250 [==============================] - 45s 36ms/step - loss: 1.6266 - acc: 0.4160 - val_loss: 1.4362 - val_acc: 0.4844\n",
      "Epoch 3/25\n",
      "1250/1250 [==============================] - 45s 36ms/step - loss: 1.4873 - acc: 0.4668 - val_loss: 1.2898 - val_acc: 0.5390\n",
      "Epoch 4/25\n",
      "1250/1250 [==============================] - 44s 35ms/step - loss: 1.3939 - acc: 0.4989 - val_loss: 1.3842 - val_acc: 0.5065\n",
      "Epoch 5/25\n",
      "1250/1250 [==============================] - 45s 36ms/step - loss: 1.3225 - acc: 0.5265 - val_loss: 1.2015 - val_acc: 0.5693\n",
      "Epoch 6/25\n",
      "1250/1250 [==============================] - 44s 35ms/step - loss: 1.2728 - acc: 0.5472 - val_loss: 1.3154 - val_acc: 0.5304\n",
      "Epoch 7/25\n",
      "1250/1250 [==============================] - 44s 35ms/step - loss: 1.2316 - acc: 0.5654 - val_loss: 1.2346 - val_acc: 0.5544\n",
      "Epoch 8/25\n",
      "1250/1250 [==============================] - 44s 36ms/step - loss: 1.1945 - acc: 0.5766 - val_loss: 1.1395 - val_acc: 0.5930\n",
      "Epoch 9/25\n",
      "1250/1250 [==============================] - 44s 35ms/step - loss: 1.1601 - acc: 0.5935 - val_loss: 1.1107 - val_acc: 0.6011\n",
      "Epoch 10/25\n",
      "1250/1250 [==============================] - 44s 35ms/step - loss: 1.1324 - acc: 0.6019 - val_loss: 1.0990 - val_acc: 0.6148\n",
      "Epoch 11/25\n",
      "1250/1250 [==============================] - 44s 36ms/step - loss: 1.1105 - acc: 0.6114 - val_loss: 1.1291 - val_acc: 0.6047\n",
      "Epoch 12/25\n",
      "1250/1250 [==============================] - 44s 35ms/step - loss: 1.0908 - acc: 0.6200 - val_loss: 1.0835 - val_acc: 0.6292\n",
      "Epoch 13/25\n",
      "1250/1250 [==============================] - 44s 35ms/step - loss: 1.0795 - acc: 0.6270 - val_loss: 0.9847 - val_acc: 0.6657\n",
      "Epoch 14/25\n",
      "1250/1250 [==============================] - 44s 35ms/step - loss: 1.0524 - acc: 0.6369 - val_loss: 0.9549 - val_acc: 0.6688\n",
      "Epoch 15/25\n",
      "1250/1250 [==============================] - 44s 35ms/step - loss: 1.0381 - acc: 0.6406 - val_loss: 1.1464 - val_acc: 0.6266\n",
      "Epoch 16/25\n",
      "1250/1250 [==============================] - 44s 35ms/step - loss: 1.0302 - acc: 0.6438 - val_loss: 0.9677 - val_acc: 0.6711\n",
      "Epoch 17/25\n",
      "1250/1250 [==============================] - 43s 35ms/step - loss: 1.0237 - acc: 0.6476 - val_loss: 0.9659 - val_acc: 0.6728\n",
      "Epoch 18/25\n",
      "1250/1250 [==============================] - 43s 35ms/step - loss: 1.0058 - acc: 0.6547 - val_loss: 0.8970 - val_acc: 0.6965\n",
      "Epoch 19/25\n",
      "1250/1250 [==============================] - 44s 35ms/step - loss: 0.9937 - acc: 0.6608 - val_loss: 0.9436 - val_acc: 0.6779\n",
      "Epoch 20/25\n",
      "1250/1250 [==============================] - 44s 35ms/step - loss: 0.9875 - acc: 0.6617 - val_loss: 1.0041 - val_acc: 0.6680\n",
      "Epoch 21/25\n",
      "1250/1250 [==============================] - 44s 35ms/step - loss: 0.9797 - acc: 0.6643 - val_loss: 0.9816 - val_acc: 0.6708\n",
      "Epoch 22/25\n",
      "1250/1250 [==============================] - 44s 35ms/step - loss: 0.9741 - acc: 0.6641 - val_loss: 0.8768 - val_acc: 0.7041\n",
      "Epoch 23/25\n",
      "1250/1250 [==============================] - 44s 35ms/step - loss: 0.9633 - acc: 0.6717 - val_loss: 0.9750 - val_acc: 0.6739\n",
      "Epoch 24/25\n",
      "1250/1250 [==============================] - 44s 35ms/step - loss: 0.9664 - acc: 0.6748 - val_loss: 0.8104 - val_acc: 0.7243\n",
      "Epoch 25/25\n",
      "1250/1250 [==============================] - 44s 35ms/step - loss: 0.9560 - acc: 0.6754 - val_loss: 0.9004 - val_acc: 0.6964\n"
     ]
    }
   ],
   "source": [
    "# Augmentation\n",
    "from keras.preprocessing.image import ImageDataGenerator\n",
    "\n",
    "data_generator = ImageDataGenerator(\n",
    "#     rescale=1./255,\n",
    "    rotation_range=10,\n",
    "    width_shift_range=0.1,\n",
    "    height_shift_range=0.1,\n",
    "    horizontal_flip=True\n",
    ")\n",
    "\n",
    "data_generator.fit(x_tr)\n",
    "\n",
    "history = model.fit(\n",
    "    data_generator.flow(x_tr, y_tr, batch_size=32), \n",
    "    epochs=25, \n",
    "    validation_data=(x_val, y_val)\n",
    ")\n",
    "\n",
    "# history = model.fit(\n",
    "#     x_tr, y_tr, batch_size=32, \n",
    "#     epochs=20, \n",
    "#     validation_data=(x_val, y_val)\n",
    "# )"
   ]
  },
  {
   "cell_type": "code",
   "execution_count": 81,
   "metadata": {
    "colab": {
     "base_uri": "https://localhost:8080/",
     "height": 541
    },
    "colab_type": "code",
    "id": "Lt_VFjISGDox",
    "outputId": "da00d7c1-c50c-4fdb-b7d9-dad784f15f76"
   },
   "outputs": [
    {
     "data": {
      "image/png": "[encoded data removed]",
      "text/plain": [
       "<Figure size 432x288 with 1 Axes>"
      ]
     },
     "metadata": {
      "tags": []
     },
     "output_type": "display_data"
    },
    {
     "data": {
      "image/png": "[encoded data removed]",
      "text/plain": [
       "<Figure size 432x288 with 1 Axes>"
      ]
     },
     "metadata": {
      "tags": []
     },
     "output_type": "display_data"
    }
   ],
   "source": [
    "import matplotlib.pyplot as plt\n",
    "%matplotlib inline\n",
    "\n",
    "acc = history.history['acc']\n",
    "val_acc = history.history['val_acc']\n",
    "\n",
    "loss = history.history['loss']\n",
    "val_loss = history.history['val_loss']\n",
    "\n",
    "epochs = range(len(acc))\n",
    "\n",
    "# fig = plt.figure(figsize=(14, 6))\n",
    "\n",
    "# fig, axs = plt.subplot(1,2)\n",
    "plt.plot(epochs, acc, 'bo', label='Training acc')\n",
    "plt.plot(epochs, val_acc, 'r', label='Validation acc')\n",
    "plt.xlabel('Epochs')\n",
    "plt.ylabel('Accuracy')\n",
    "plt.legend()\n",
    "plt.show()\n",
    "\n",
    "# fig = plt.figure(figsize=(14, 6))\n",
    "# plt.subplot(1,2,2)\n",
    "plt.plot(epochs, loss, '-b', label='Training loss')\n",
    "plt.plot(epochs, val_loss, '-r', label='Validation loss')\n",
    "plt.xlabel('Epochs')\n",
    "plt.ylabel('Loss')\n",
    "plt.legend()\n",
    "plt.show()"
   ]
  },
  {
   "cell_type": "markdown",
   "metadata": {
    "colab_type": "text",
    "id": "jS-w19QBGDoz"
   },
   "source": [
    "## 3. Train (again) and evaluate the model\n",
    "\n",
    "- To this end, you have found the \"best\" hyper-parameters. \n",
    "- Now, fix the hyper-parameters and train the network on the entire training set (all the 50K training samples)\n",
    "- Evaluate your model on the test set."
   ]
  },
  {
   "cell_type": "markdown",
   "metadata": {
    "colab_type": "text",
    "id": "wSHp2Vx8GDoz"
   },
   "source": [
    "### 3.1. Train the model on the entire training set\n",
    "\n",
    "Why? Previously, you used 40K samples for training; you wasted 10K samples for the sake of hyper-parameter tuning. Now you already know the hyper-parameters, so why not using all the 50K samples for training?"
   ]
  },
  {
   "cell_type": "code",
   "execution_count": 0,
   "metadata": {
    "colab": {},
    "colab_type": "code",
    "id": "FXoOewoTGDo0"
   },
   "outputs": [],
   "source": [
    "learning_rate = 1E-4 # to be tuned!\n",
    "\n",
    "model.compile(loss='categorical_crossentropy',\n",
    "              optimizer=optimizers.RMSprop(lr=learning_rate),\n",
    "              metrics=['acc'])"
   ]
  },
  {
   "cell_type": "code",
   "execution_count": 85,
   "metadata": {
    "colab": {
     "base_uri": "https://localhost:8080/",
     "height": 867
    },
    "colab_type": "code",
    "id": "Z8MC4dgJGDo1",
    "outputId": "b0f8487f-cec7-496f-f786-b2a6e95e1ae0"
   },
   "outputs": [
    {
     "name": "stdout",
     "output_type": "stream",
     "text": [
      "Epoch 1/25\n",
      "1563/1563 [==============================] - 57s 37ms/step - loss: 0.9566 - acc: 0.6760\n",
      "Epoch 2/25\n",
      "1563/1563 [==============================] - 53s 34ms/step - loss: 0.9480 - acc: 0.6802\n",
      "Epoch 3/25\n",
      "1563/1563 [==============================] - 52s 33ms/step - loss: 0.9467 - acc: 0.6814\n",
      "Epoch 4/25\n",
      "1563/1563 [==============================] - 52s 33ms/step - loss: 0.9329 - acc: 0.6838\n",
      "Epoch 5/25\n",
      "1563/1563 [==============================] - 52s 33ms/step - loss: 0.9319 - acc: 0.6871\n",
      "Epoch 6/25\n",
      "1563/1563 [==============================] - 52s 33ms/step - loss: 0.9274 - acc: 0.6889\n",
      "Epoch 7/25\n",
      "1563/1563 [==============================] - 52s 33ms/step - loss: 0.9295 - acc: 0.6906\n",
      "Epoch 8/25\n",
      "1563/1563 [==============================] - 52s 33ms/step - loss: 0.9202 - acc: 0.6912\n",
      "Epoch 9/25\n",
      "1563/1563 [==============================] - 52s 33ms/step - loss: 0.9148 - acc: 0.6958\n",
      "Epoch 10/25\n",
      "1563/1563 [==============================] - 52s 33ms/step - loss: 0.9092 - acc: 0.6960\n",
      "Epoch 11/25\n",
      "1563/1563 [==============================] - 52s 33ms/step - loss: 0.9004 - acc: 0.6989\n",
      "Epoch 12/25\n",
      "1563/1563 [==============================] - 52s 33ms/step - loss: 0.9038 - acc: 0.7006\n",
      "Epoch 13/25\n",
      "1563/1563 [==============================] - 52s 34ms/step - loss: 0.8988 - acc: 0.7034\n",
      "Epoch 14/25\n",
      "1563/1563 [==============================] - 52s 34ms/step - loss: 0.8964 - acc: 0.7036\n",
      "Epoch 15/25\n",
      "1563/1563 [==============================] - 52s 34ms/step - loss: 0.8903 - acc: 0.7048\n",
      "Epoch 16/25\n",
      "1563/1563 [==============================] - 52s 33ms/step - loss: 0.8889 - acc: 0.7069\n",
      "Epoch 17/25\n",
      "1563/1563 [==============================] - 52s 33ms/step - loss: 0.8888 - acc: 0.7078\n",
      "Epoch 18/25\n",
      "1563/1563 [==============================] - 52s 33ms/step - loss: 0.8834 - acc: 0.7086\n",
      "Epoch 19/25\n",
      "1563/1563 [==============================] - 52s 33ms/step - loss: 0.8860 - acc: 0.7081\n",
      "Epoch 20/25\n",
      "1563/1563 [==============================] - 52s 33ms/step - loss: 0.8720 - acc: 0.7104\n",
      "Epoch 21/25\n",
      "1563/1563 [==============================] - 52s 33ms/step - loss: 0.8758 - acc: 0.7116\n",
      "Epoch 22/25\n",
      "1563/1563 [==============================] - 52s 33ms/step - loss: 0.8731 - acc: 0.7137\n",
      "Epoch 23/25\n",
      "1563/1563 [==============================] - 52s 33ms/step - loss: 0.8696 - acc: 0.7160\n",
      "Epoch 24/25\n",
      "1563/1563 [==============================] - 52s 33ms/step - loss: 0.8717 - acc: 0.7144\n",
      "Epoch 25/25\n",
      "1563/1563 [==============================] - 52s 33ms/step - loss: 0.8675 - acc: 0.7161\n"
     ]
    }
   ],
   "source": [
    "# Augmentation\n",
    "from keras.preprocessing.image import ImageDataGenerator\n",
    "\n",
    "data_generator = ImageDataGenerator(\n",
    "#     rescale=1./255,\n",
    "    rotation_range=10,\n",
    "    width_shift_range=0.1,\n",
    "    height_shift_range=0.1,\n",
    "    horizontal_flip=True\n",
    ")\n",
    "\n",
    "data_generator.fit(x_train)\n",
    "\n",
    "history = model.fit(\n",
    "    data_generator.flow(x_train, y_train_vec, batch_size=32), \n",
    "    epochs=25\n",
    ")"
   ]
  },
  {
   "cell_type": "markdown",
   "metadata": {
    "colab_type": "text",
    "id": "ej-gLUhoGDo3"
   },
   "source": [
    "### 3.2. Evaluate the model on the test set\n",
    "\n",
    "Do NOT used the test set until now. Make sure that your model parameters and hyper-parameters are independent of the test set."
   ]
  },
  {
   "cell_type": "code",
   "execution_count": 87,
   "metadata": {
    "colab": {
     "base_uri": "https://localhost:8080/",
     "height": 68
    },
    "colab_type": "code",
    "id": "Xht6Tl03GDo4",
    "outputId": "70c69def-a8b0-476b-e8b4-c3f201ce4a52"
   },
   "outputs": [
    {
     "name": "stdout",
     "output_type": "stream",
     "text": [
      "10000/10000 [==============================] - 6s 629us/step\n",
      "loss = 0.9797097798347473\n",
      "accuracy = 0.6867\n"
     ]
    }
   ],
   "source": [
    "loss_and_acc = model.evaluate(x_test, y_test_vec)\n",
    "print('loss = ' + str(loss_and_acc[0]))\n",
    "print('accuracy = ' + str(loss_and_acc[1]))"
   ]
  },
  {
   "cell_type": "code",
   "execution_count": 0,
   "metadata": {
    "colab": {},
    "colab_type": "code",
    "id": "YOg6ch8hGDo5"
   },
   "outputs": [],
   "source": []
  }
 ],
 "metadata": {
  "accelerator": "GPU",
  "colab": {
   "collapsed_sections": [],
   "name": "HM3.ipynb",
   "provenance": []
  },
  "kernelspec": {
   "display_name": "Python 3",
   "language": "python",
   "name": "python3"
  },
  "language_info": {
   "codemirror_mode": {
    "name": "ipython",
    "version": 3
   },
   "file_extension": ".py",
   "mimetype": "text/x-python",
   "name": "python",
   "nbconvert_exporter": "python",
   "pygments_lexer": "ipython3",
   "version": "3.7.3"
  }
 },
 "nbformat": 4,
 "nbformat_minor": 1
}
