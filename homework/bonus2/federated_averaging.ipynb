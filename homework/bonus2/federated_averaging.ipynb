{
 "cells": [
  {
   "cell_type": "markdown",
   "metadata": {},
   "source": [
    "# Bonus 2 Parallel Computing -- Federated averaging\n",
    "\n",
    "### Name: Kun Wu"
   ]
  },
  {
   "cell_type": "markdown",
   "metadata": {},
   "source": [
    "## 0. Requirements\n",
    "1. Use 4 worker nodes.\n",
    "2. Use GD and SGD (with batch size b=1).\n",
    "3. Set the number of local iterations to q=1 and 8.\n",
    "4. Plot (training) objective function against epochs. Note that one epoch means every sample is visited exactly once.\n",
    "5. Note also that there are 4 lines in your plot. (GD with q=1, GD with q=8, SGD with q=1, SGD with q=8.)"
   ]
  },
  {
   "cell_type": "markdown",
   "metadata": {},
   "source": [
    "## 1. Data preprocess\n",
    "* Copy from Bonus 1"
   ]
  },
  {
   "cell_type": "markdown",
   "metadata": {},
   "source": [
    "### 1.1 Load Data"
   ]
  },
  {
   "cell_type": "code",
   "execution_count": 1,
   "metadata": {},
   "outputs": [
    {
     "name": "stdout",
     "output_type": "stream",
     "text": [
      "x size: (768, 8)\n",
      "y size: (768,)\n"
     ]
    }
   ],
   "source": [
    "from sklearn import datasets\n",
    "import numpy as np\n",
    "\n",
    "x_sparse, y = datasets.load_svmlight_file('./data/diabetes')\n",
    "x = x_sparse.todense()\n",
    "\n",
    "print('x size:', x.shape)\n",
    "print('y size:', y.shape)"
   ]
  },
  {
   "cell_type": "markdown",
   "metadata": {},
   "source": [
    "### 1.2 Split Data"
   ]
  },
  {
   "cell_type": "code",
   "execution_count": 2,
   "metadata": {},
   "outputs": [
    {
     "name": "stdout",
     "output_type": "stream",
     "text": [
      "Shape of training set, x: (614, 8), y: (614,)\n",
      "Shape of test set, x: (154, 8), y: (154,)\n"
     ]
    }
   ],
   "source": [
    "n = x.shape[0]\n",
    "num_train = int(n * 0.8)\n",
    "num_test = n - num_train\n",
    "\n",
    "rand_indices = np.random.permutation(n)\n",
    "train_indices = rand_indices[:num_train]\n",
    "test_indices = rand_indices[num_train:]\n",
    "\n",
    "x_train = x[train_indices]\n",
    "y_train = y[train_indices]\n",
    "\n",
    "x_test = x[test_indices]\n",
    "y_test = y[test_indices]\n",
    "\n",
    "print('Shape of training set, x: {}, y: {}'.format(x_train.shape, y_train.shape))\n",
    "print('Shape of test set, x: {}, y: {}'.format(x_test.shape, y_test.shape))"
   ]
  },
  {
   "cell_type": "markdown",
   "metadata": {},
   "source": [
    "### 1.3 Normalization"
   ]
  },
  {
   "cell_type": "code",
   "execution_count": 3,
   "metadata": {},
   "outputs": [],
   "source": [
    "mu = np.mean(x_train, axis=0)\n",
    "sigma = np.std(x_train, axis=0)\n",
    "\n",
    "x_train = (x_train - mu) / (sigma + 1E-6)\n",
    "x_test = (x_test - mu) / (sigma + 1E-6)"
   ]
  },
  {
   "cell_type": "markdown",
   "metadata": {},
   "source": [
    "### 1.4 Add Bias"
   ]
  },
  {
   "cell_type": "code",
   "execution_count": 4,
   "metadata": {},
   "outputs": [
    {
     "name": "stdout",
     "output_type": "stream",
     "text": [
      "Shape of training set, (614, 9)\n",
      "Shape of test set, (154, 9)\n"
     ]
    }
   ],
   "source": [
    "n_train, _ = x_train.shape\n",
    "x_train = np.concatenate((x_train, np.ones((n_train, 1))), axis=1)\n",
    "\n",
    "n_test, _ = x_test.shape\n",
    "x_test = np.concatenate((x_test, np.ones((n_test, 1))), axis=1)\n",
    "\n",
    "print('Shape of training set, {}'.format(x_train.shape))\n",
    "print('Shape of test set, {}'.format(x_test.shape))"
   ]
  },
  {
   "cell_type": "markdown",
   "metadata": {},
   "source": [
    "## 2. Worker and Server"
   ]
  },
  {
   "cell_type": "markdown",
   "metadata": {},
   "source": [
    "### 2.1 Worker"
   ]
  },
  {
   "cell_type": "code",
   "execution_count": 169,
   "metadata": {},
   "outputs": [],
   "source": [
    "class FedAvgWorker(object):\n",
    "    def __init__(self, x, y):\n",
    "        self.x = x\n",
    "        self.y = y\n",
    "        self.num_inputs, self.num_features = x.shape\n",
    "        \n",
    "        self.weights = np.zeros((self.num_features, 1))\n",
    "        self.momentum = 0\n",
    "        \n",
    "    def set_params(self, w):\n",
    "        self.weights = np.copy(w)\n",
    "        \n",
    "    def loss(self):\n",
    "        yx = self.y * self.x\n",
    "        yxw = np.dot(yx, self.weights)\n",
    "        vec1 = np.exp(-yxw)\n",
    "        vec2 = np.log(1 + vec1)\n",
    "        return np.sum(vec2)\n",
    "    \n",
    "    def gradient(self, lam):\n",
    "        yx = self.y * self.x\n",
    "        yxw = np.dot(yx, self.weights)\n",
    "        vec1 = np.exp(yxw)\n",
    "        vec2 = np.divide(yx, 1 + vec1)\n",
    "        vec3 = -np.sum(vec2, axis=0).reshape(self.num_features, 1)\n",
    "        g = vec3 + lam * self.weights\n",
    "        return g\n",
    "    \n",
    "    def gd(self, q, lr, beta, lam):\n",
    "        start_weights = np.copy(self.weights)\n",
    "        \n",
    "        for t in range(q):\n",
    "            gradient = self.gradient(lam)\n",
    "            self.momentum *= beta\n",
    "            self.momentum += gradient\n",
    "            self.weights -= lr * self.momentum\n",
    "\n",
    "        return start_weights - self.weights\n",
    "    \n",
    "    def stochastic_gradient(self, xi, yi, lam):\n",
    "        yx = yi * xi\n",
    "        yxw = float(np.dot(yx, w)) # scalar\n",
    "        \n",
    "        g_loss = -yx.T / (1 + np.exp(yxw)) # d-by-1 matrix\n",
    "        g = g_loss + lam * self.weights # d-by-1 matrix\n",
    "        return g\n",
    "    \n",
    "    def sgd(self, q, lr, beta, lam):\n",
    "        start_weights = np.copy(self.weights)\n",
    "        \n",
    "        for t in range(q):\n",
    "            rand = np.random.permutation(self.num_inputs)\n",
    "            x_rand = self.x[rand, :]\n",
    "            y_rand = self.y[rand]\n",
    "            \n",
    "            for i in range(self.num_inputs):\n",
    "                xi = x_rand[i, :]\n",
    "                yi = float(y_rand[i])\n",
    "                g = self.stochastic_gradient(xi, yi, lam)\n",
    "                self.weights -= lr * g\n",
    "        \n",
    "        return start_weights - self.weights"
   ]
  },
  {
   "cell_type": "markdown",
   "metadata": {},
   "source": [
    "### 2.2 Server"
   ]
  },
  {
   "cell_type": "code",
   "execution_count": 170,
   "metadata": {},
   "outputs": [],
   "source": [
    "class FedAvgServer(object):\n",
    "    def __init__(self, num_workers, num_inputs, num_features):\n",
    "        self.num_workers = num_workers\n",
    "        self.num_inputs = num_inputs\n",
    "        self.num_features = num_features\n",
    "        \n",
    "        self.weights = np.zeros((num_features, 1))\n",
    "        self.p = np.zeros((num_features, 1))\n",
    "        \n",
    "        self.loss = 0.\n",
    "\n",
    "    def broadcast(self):\n",
    "        return self.weights\n",
    "    \n",
    "    def aggregate(self, ps, losses):\n",
    "        self.p = np.mean(ps, axis=0).reshape(self.num_features, 1)\n",
    "        self.loss = np.sum(losses)\n",
    "        \n",
    "    def objective(self, lam):\n",
    "        reg = lam / 2 * np.sum(self.weights * self.weights)\n",
    "        obj = self.loss /  self.num_inputs + reg\n",
    "        return obj\n",
    "    \n",
    "    def agd(self, lr):\n",
    "        self.weights -= lr * self.p"
   ]
  },
  {
   "cell_type": "markdown",
   "metadata": {},
   "source": [
    "### 2.3 Initialization"
   ]
  },
  {
   "cell_type": "code",
   "execution_count": 171,
   "metadata": {},
   "outputs": [],
   "source": [
    "import math\n",
    "\n",
    "def create_server_worker(m , x, y):\n",
    "    n, d = x.shape\n",
    "    \n",
    "    s = math.floor(n / m)\n",
    "    server = FedAvgServer(m , n , d)\n",
    "    \n",
    "    workers = []\n",
    "    for i in range(m):\n",
    "        indices = list(range(i * s, (i + 1) * s))\n",
    "        worker = FedAvgWorker(x[indices], y[indices])\n",
    "        workers.append(worker)\n",
    "    \n",
    "    return server, workers"
   ]
  },
  {
   "cell_type": "markdown",
   "metadata": {},
   "source": [
    "## 3 Federated Averaging"
   ]
  },
  {
   "cell_type": "code",
   "execution_count": 172,
   "metadata": {},
   "outputs": [],
   "source": [
    "lam = 1E-6\n",
    "learning_rate = 0.0001\n",
    "beta = 0.9\n",
    "epochs = 50\n",
    "q = 10\n",
    "\n",
    "m = 4\n",
    "server, workers = create_server_worker(m, x_train, y_train)"
   ]
  },
  {
   "cell_type": "markdown",
   "metadata": {},
   "source": [
    "### 3.1 GD"
   ]
  },
  {
   "cell_type": "code",
   "execution_count": 173,
   "metadata": {},
   "outputs": [
    {
     "name": "stdout",
     "output_type": "stream",
     "text": [
      "Objective function value: 1.6722054163204588e-06\n",
      "Objective function value: 3.6346294686554156e-07\n",
      "Objective function value: 3.1768700313068894e-07\n",
      "Objective function value: 3.119674803063271e-07\n",
      "Objective function value: 3.117121320069155e-07\n",
      "Objective function value: 3.122865856653344e-07\n",
      "Objective function value: 3.1299051514656435e-07\n",
      "Objective function value: 3.13715757488576e-07\n",
      "Objective function value: 3.1444548425165036e-07\n",
      "Objective function value: 3.151770631188889e-07\n",
      "Objective function value: 3.1591008087558886e-07\n",
      "Objective function value: 3.166444733334205e-07\n",
      "Objective function value: 3.1738023159301475e-07\n",
      "Objective function value: 3.181173555859988e-07\n",
      "Objective function value: 3.1885584666985033e-07\n",
      "Objective function value: 3.19595706434203e-07\n",
      "Objective function value: 3.20336936506659e-07\n",
      "Objective function value: 3.210795385238589e-07\n",
      "Objective function value: 3.218235141202719e-07\n",
      "Objective function value: 3.2256886493325806e-07\n",
      "Objective function value: 3.2331559259836764e-07\n",
      "Objective function value: 3.240636987522339e-07\n",
      "Objective function value: 3.248131850318498e-07\n",
      "Objective function value: 3.2556405307312144e-07\n",
      "Objective function value: 3.263163045133999e-07\n",
      "Objective function value: 3.2706994098931095e-07\n",
      "Objective function value: 3.2782496413747815e-07\n",
      "Objective function value: 3.28581375594162e-07\n",
      "Objective function value: 3.293391769970676e-07\n",
      "Objective function value: 3.300983699831745e-07\n",
      "Objective function value: 3.3085895618909927e-07\n",
      "Objective function value: 3.316209372518177e-07\n",
      "Objective function value: 3.3238431480794253e-07\n",
      "Objective function value: 3.3314909049553066e-07\n",
      "Objective function value: 3.339152659515524e-07\n",
      "Objective function value: 3.346828428126148e-07\n",
      "Objective function value: 3.3545182271640733e-07\n",
      "Objective function value: 3.362222072995331e-07\n",
      "Objective function value: 3.36993998199678e-07\n",
      "Objective function value: 3.377671970538028e-07\n",
      "Objective function value: 3.385418054988663e-07\n",
      "Objective function value: 3.393178251729103e-07\n",
      "Objective function value: 3.4009525771252807e-07\n",
      "Objective function value: 3.4087410475503434e-07\n",
      "Objective function value: 3.4165436793810355e-07\n",
      "Objective function value: 3.424360488983231e-07\n",
      "Objective function value: 3.432191492737251e-07\n",
      "Objective function value: 3.440036707005317e-07\n",
      "Objective function value: 3.447896148164093e-07\n",
      "Objective function value: 3.455769832590227e-07\n"
     ]
    }
   ],
   "source": [
    "objvals_gd = []\n",
    "for t in range(epochs):\n",
    "    w  = server.broadcast()\n",
    "    for i in range(m):\n",
    "        workers[i].set_params(w)\n",
    "        \n",
    "    ps = []\n",
    "    losses = []\n",
    "    for i in range(m):\n",
    "        p = workers[i].gd(q, learning_rate, beta, lam)\n",
    "        ps.append(p.squeeze())\n",
    "        l = workers[i].loss()\n",
    "        losses.append(l)\n",
    "        \n",
    "    server.aggregate(ps, losses)\n",
    "    \n",
    "    obj = server.objective(lam)\n",
    "    \n",
    "    server.agd(learning_rate)\n",
    "    \n",
    "    print('Objective function value: {}'.format(obj))\n",
    "    objvals_gd.append(obj)"
   ]
  },
  {
   "cell_type": "code",
   "execution_count": 181,
   "metadata": {},
   "outputs": [
    {
     "data": {
      "image/png": "[encoded data removed]",
      "text/plain": [
       "<Figure size 432x288 with 1 Axes>"
      ]
     },
     "metadata": {
      "needs_background": "light"
     },
     "output_type": "display_data"
    }
   ],
   "source": [
    "import matplotlib.pyplot as plt\n",
    "%matplotlib inline\n",
    "\n",
    "fig = plt.figure(figsize=(6, 4))\n",
    "\n",
    "epochs_gd = range(len(objvals_gd))\n",
    "\n",
    "line0, = plt.plot(epochs_gd, objvals_gd, '-b', LineWidth=2)\n",
    "plt.xlabel('Epochs', FontSize=20)\n",
    "plt.ylabel('Objective Value', FontSize=20)\n",
    "plt.xticks(FontSize=16)\n",
    "plt.yticks(FontSize=16)\n",
    "plt.tight_layout()\n",
    "plt.show()\n",
    "fig.savefig('compare_gd_sgd.pdf', format='pdf', dpi=1200)"
   ]
  },
  {
   "cell_type": "markdown",
   "metadata": {},
   "source": [
    "### 3.2 SGD"
   ]
  },
  {
   "cell_type": "code",
   "execution_count": 196,
   "metadata": {},
   "outputs": [
    {
     "name": "stdout",
     "output_type": "stream",
     "text": [
      "Objective function value: 1.88509564475862e-05\n",
      "Objective function value: 1.8840844189014817e-05\n",
      "Objective function value: 1.8830737432145537e-05\n",
      "Objective function value: 1.8820636105973243e-05\n",
      "Objective function value: 1.8810540269965635e-05\n",
      "Objective function value: 1.8800449960302236e-05\n",
      "Objective function value: 1.8790365064673493e-05\n",
      "Objective function value: 1.8780285655195847e-05\n",
      "Objective function value: 1.877021172050367e-05\n",
      "Objective function value: 1.876014323074206e-05\n",
      "Objective function value: 1.875008020753994e-05\n",
      "Objective function value: 1.8740022624739735e-05\n",
      "Objective function value: 1.8729970514075192e-05\n",
      "Objective function value: 1.8719923849339428e-05\n",
      "Objective function value: 1.8709882612456008e-05\n",
      "Objective function value: 1.8699846851030464e-05\n",
      "Objective function value: 1.8689816523964487e-05\n",
      "Objective function value: 1.8679791633961978e-05\n",
      "Objective function value: 1.866977216386955e-05\n",
      "Objective function value: 1.8659758117680732e-05\n"
     ]
    }
   ],
   "source": [
    "learning_rate = 0.0001\n",
    "q = 10\n",
    "epochs = 20\n",
    "\n",
    "sgd_server, sgd_workers = create_server_worker(m, x_train, y_train)\n",
    "\n",
    "objvals_sgd = []\n",
    "for t in range(epochs):\n",
    "    w  = sgd_server.broadcast()\n",
    "    for i in range(m):\n",
    "        sgd_workers[i].set_params(w)\n",
    "        \n",
    "    ps = []\n",
    "    losses = []\n",
    "    for i in range(m):\n",
    "        p = sgd_workers[i].sgd(q, learning_rate, beta, lam)\n",
    "        ps.append(p.squeeze())\n",
    "        l = sgd_workers[i].loss()\n",
    "        losses.append(l)\n",
    "        \n",
    "    sgd_server.aggregate(ps, losses)\n",
    "    \n",
    "    obj = sgd_server.objective(lam)\n",
    "    \n",
    "    sgd_server.agd(learning_rate)\n",
    "    \n",
    "    print('Objective function value: {}'.format(obj))\n",
    "    objvals_sgd.append(obj)"
   ]
  },
  {
   "cell_type": "code",
   "execution_count": 197,
   "metadata": {},
   "outputs": [
    {
     "data": {
      "image/png": "[encoded data removed]",
      "text/plain": [
       "<Figure size 432x288 with 1 Axes>"
      ]
     },
     "metadata": {
      "needs_background": "light"
     },
     "output_type": "display_data"
    }
   ],
   "source": [
    "%matplotlib inline\n",
    "\n",
    "fig = plt.figure(figsize=(6, 4))\n",
    "\n",
    "epochs_sgd = range(len(objvals_sgd))\n",
    "\n",
    "line1, = plt.plot(epochs_sgd, objvals_sgd, '-r', LineWidth=2)\n",
    "plt.xlabel('Epochs', FontSize=20)\n",
    "plt.ylabel('Objective Value', FontSize=20)\n",
    "plt.xticks(FontSize=16)\n",
    "plt.yticks(FontSize=16)\n",
    "plt.tight_layout()\n",
    "plt.show()\n",
    "fig.savefig('sgd.pdf', format='pdf', dpi=1200)"
   ]
  }
 ],
 "metadata": {
  "kernelspec": {
   "display_name": "Python 3",
   "language": "python",
   "name": "python3"
  },
  "language_info": {
   "codemirror_mode": {
    "name": "ipython",
    "version": 3
   },
   "file_extension": ".py",
   "mimetype": "text/x-python",
   "name": "python",
   "nbconvert_exporter": "python",
   "pygments_lexer": "ipython3",
   "version": "3.7.3"
  }
 },
 "nbformat": 4,
 "nbformat_minor": 2
}
